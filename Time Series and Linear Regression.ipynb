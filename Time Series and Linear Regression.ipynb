{
 "cells": [
  {
   "cell_type": "markdown",
   "metadata": {},
   "source": [
    "# Time Series and Linear Regression\n",
    "\n",
    "- Forecasting could be done using <b>time-series</b> or <b>regression</b>.\n",
    "    - Time Series uses past values to determine future values\n",
    "        - Could be a simple linear regression with one past value\n",
    "        - Could be an ARIMA 'official' time series model (Auto Regressive Integrated Moving Average) - describe how each successive value in a series is related to previous values\n",
    "    - Regression uses variables / covariates to determine future values\n",
    "- Time series are sequences of snapshots of processes, evenly spaced\n",
    "    - The daily closing value of stocks are time-series"
   ]
  },
  {
   "cell_type": "code",
   "execution_count": 1,
   "metadata": {},
   "outputs": [],
   "source": [
    "#Import packages\n",
    "import pandas as pd\n",
    "import matplotlib.pyplot as plt\n",
    "%matplotlib inline\n",
    "import numpy as np\n",
    "import seaborn as sns\n",
    "\n",
    "from sklearn import linear_model\n",
    "from sklearn.metrics import mean_squared_error\n",
    "from sklearn.metrics import r2_score\n",
    "\n",
    "plt.rc('figure', figsize=(12, 8.0))"
   ]
  },
  {
   "cell_type": "markdown",
   "metadata": {},
   "source": [
    "# Import Data\n",
    "\n",
    "- AAPL_10y.csv Apple data from 01/08/2011 to 01/08/2021\n",
    "- AMZN_10y.csv Amazon data from 01/08/2011 to 01/08/2021\n",
    "- FB_10y.csv Facebook data from 01/08/2011 to 01/08/2021"
   ]
  },
  {
   "cell_type": "code",
   "execution_count": 2,
   "metadata": {},
   "outputs": [],
   "source": [
    "df_aapl = pd.read_csv('AAPL_10y.csv')"
   ]
  },
  {
   "cell_type": "code",
   "execution_count": 3,
   "metadata": {},
   "outputs": [
    {
     "data": {
      "text/plain": [
       "Date         0\n",
       "Open         0\n",
       "High         0\n",
       "Low          0\n",
       "Close        0\n",
       "Adj Close    0\n",
       "Volume       0\n",
       "dtype: int64"
      ]
     },
     "execution_count": 3,
     "metadata": {},
     "output_type": "execute_result"
    }
   ],
   "source": [
    "#Check for null values\n",
    "df_aapl.isnull().sum() "
   ]
  },
  {
   "cell_type": "code",
   "execution_count": 4,
   "metadata": {
    "scrolled": true
   },
   "outputs": [
    {
     "data": {
      "text/html": [
       "<div>\n",
       "<style scoped>\n",
       "    .dataframe tbody tr th:only-of-type {\n",
       "        vertical-align: middle;\n",
       "    }\n",
       "\n",
       "    .dataframe tbody tr th {\n",
       "        vertical-align: top;\n",
       "    }\n",
       "\n",
       "    .dataframe thead th {\n",
       "        text-align: right;\n",
       "    }\n",
       "</style>\n",
       "<table border=\"1\" class=\"dataframe\">\n",
       "  <thead>\n",
       "    <tr style=\"text-align: right;\">\n",
       "      <th></th>\n",
       "      <th>Date</th>\n",
       "      <th>Open</th>\n",
       "      <th>High</th>\n",
       "      <th>Low</th>\n",
       "      <th>Close</th>\n",
       "      <th>Adj Close</th>\n",
       "      <th>Volume</th>\n",
       "    </tr>\n",
       "  </thead>\n",
       "  <tbody>\n",
       "    <tr>\n",
       "      <th>0</th>\n",
       "      <td>2011-08-01</td>\n",
       "      <td>14.206429</td>\n",
       "      <td>14.267857</td>\n",
       "      <td>14.013214</td>\n",
       "      <td>14.169643</td>\n",
       "      <td>12.166288</td>\n",
       "      <td>612836000</td>\n",
       "    </tr>\n",
       "    <tr>\n",
       "      <th>1</th>\n",
       "      <td>2011-08-02</td>\n",
       "      <td>14.201786</td>\n",
       "      <td>14.210714</td>\n",
       "      <td>13.869643</td>\n",
       "      <td>13.889643</td>\n",
       "      <td>11.925877</td>\n",
       "      <td>639539600</td>\n",
       "    </tr>\n",
       "    <tr>\n",
       "      <th>2</th>\n",
       "      <td>2011-08-03</td>\n",
       "      <td>13.963571</td>\n",
       "      <td>14.055357</td>\n",
       "      <td>13.651429</td>\n",
       "      <td>14.020357</td>\n",
       "      <td>12.038110</td>\n",
       "      <td>732508000</td>\n",
       "    </tr>\n",
       "    <tr>\n",
       "      <th>3</th>\n",
       "      <td>2011-08-04</td>\n",
       "      <td>13.907500</td>\n",
       "      <td>13.975714</td>\n",
       "      <td>13.476786</td>\n",
       "      <td>13.477500</td>\n",
       "      <td>11.572001</td>\n",
       "      <td>871407600</td>\n",
       "    </tr>\n",
       "    <tr>\n",
       "      <th>4</th>\n",
       "      <td>2011-08-05</td>\n",
       "      <td>13.587143</td>\n",
       "      <td>13.696429</td>\n",
       "      <td>12.948929</td>\n",
       "      <td>13.343571</td>\n",
       "      <td>11.457007</td>\n",
       "      <td>1204590800</td>\n",
       "    </tr>\n",
       "  </tbody>\n",
       "</table>\n",
       "</div>"
      ],
      "text/plain": [
       "         Date       Open       High        Low      Close  Adj Close  \\\n",
       "0  2011-08-01  14.206429  14.267857  14.013214  14.169643  12.166288   \n",
       "1  2011-08-02  14.201786  14.210714  13.869643  13.889643  11.925877   \n",
       "2  2011-08-03  13.963571  14.055357  13.651429  14.020357  12.038110   \n",
       "3  2011-08-04  13.907500  13.975714  13.476786  13.477500  11.572001   \n",
       "4  2011-08-05  13.587143  13.696429  12.948929  13.343571  11.457007   \n",
       "\n",
       "       Volume  \n",
       "0   612836000  \n",
       "1   639539600  \n",
       "2   732508000  \n",
       "3   871407600  \n",
       "4  1204590800  "
      ]
     },
     "execution_count": 4,
     "metadata": {},
     "output_type": "execute_result"
    }
   ],
   "source": [
    "df_aapl.head()"
   ]
  },
  {
   "cell_type": "code",
   "execution_count": 5,
   "metadata": {},
   "outputs": [],
   "source": [
    "df_aapl = df_aapl[['Date', 'Close']].copy()"
   ]
  },
  {
   "cell_type": "code",
   "execution_count": 6,
   "metadata": {},
   "outputs": [
    {
     "data": {
      "text/html": [
       "<div>\n",
       "<style scoped>\n",
       "    .dataframe tbody tr th:only-of-type {\n",
       "        vertical-align: middle;\n",
       "    }\n",
       "\n",
       "    .dataframe tbody tr th {\n",
       "        vertical-align: top;\n",
       "    }\n",
       "\n",
       "    .dataframe thead th {\n",
       "        text-align: right;\n",
       "    }\n",
       "</style>\n",
       "<table border=\"1\" class=\"dataframe\">\n",
       "  <thead>\n",
       "    <tr style=\"text-align: right;\">\n",
       "      <th></th>\n",
       "      <th>Date</th>\n",
       "      <th>Close</th>\n",
       "    </tr>\n",
       "  </thead>\n",
       "  <tbody>\n",
       "    <tr>\n",
       "      <th>0</th>\n",
       "      <td>2011-08-01</td>\n",
       "      <td>14.169643</td>\n",
       "    </tr>\n",
       "    <tr>\n",
       "      <th>1</th>\n",
       "      <td>2011-08-02</td>\n",
       "      <td>13.889643</td>\n",
       "    </tr>\n",
       "    <tr>\n",
       "      <th>2</th>\n",
       "      <td>2011-08-03</td>\n",
       "      <td>14.020357</td>\n",
       "    </tr>\n",
       "    <tr>\n",
       "      <th>3</th>\n",
       "      <td>2011-08-04</td>\n",
       "      <td>13.477500</td>\n",
       "    </tr>\n",
       "    <tr>\n",
       "      <th>4</th>\n",
       "      <td>2011-08-05</td>\n",
       "      <td>13.343571</td>\n",
       "    </tr>\n",
       "  </tbody>\n",
       "</table>\n",
       "</div>"
      ],
      "text/plain": [
       "         Date      Close\n",
       "0  2011-08-01  14.169643\n",
       "1  2011-08-02  13.889643\n",
       "2  2011-08-03  14.020357\n",
       "3  2011-08-04  13.477500\n",
       "4  2011-08-05  13.343571"
      ]
     },
     "execution_count": 6,
     "metadata": {},
     "output_type": "execute_result"
    }
   ],
   "source": [
    "df_aapl.head()"
   ]
  },
  {
   "cell_type": "markdown",
   "metadata": {},
   "source": [
    "## Exploratory Data Analysis"
   ]
  },
  {
   "cell_type": "code",
   "execution_count": 7,
   "metadata": {},
   "outputs": [
    {
     "name": "stdout",
     "output_type": "stream",
     "text": [
      "Min Date: 2011-08-01\n",
      "Max Date: 2021-07-30\n"
     ]
    }
   ],
   "source": [
    "# Find the min and max Date of our data\n",
    "print('Min Date:' ,min(df_aapl['Date']))\n",
    "print('Max Date:' ,max(df_aapl['Date']))"
   ]
  },
  {
   "cell_type": "markdown",
   "metadata": {},
   "source": [
    "### Calculate Average closing share price for each year\n",
    "\n",
    "- Use the `pd.DatetimeIndex(df['Date']).year` method and store this as 'Year' column"
   ]
  },
  {
   "cell_type": "code",
   "execution_count": 8,
   "metadata": {},
   "outputs": [],
   "source": [
    "import datetime"
   ]
  },
  {
   "cell_type": "code",
   "execution_count": 9,
   "metadata": {
    "scrolled": true
   },
   "outputs": [
    {
     "data": {
      "text/plain": [
       "0    2011\n",
       "1    2011\n",
       "2    2011\n",
       "3    2011\n",
       "4    2011\n",
       "Name: Year, dtype: int64"
      ]
     },
     "execution_count": 9,
     "metadata": {},
     "output_type": "execute_result"
    }
   ],
   "source": [
    "#Create separate column for year\n",
    "df_aapl['Year'] = pd.DatetimeIndex(df_aapl['Date']).year\n",
    "df_aapl['Year'].head()"
   ]
  },
  {
   "cell_type": "code",
   "execution_count": 10,
   "metadata": {},
   "outputs": [
    {
     "data": {
      "text/plain": [
       "2011    107\n",
       "2012    250\n",
       "2013    252\n",
       "2014    252\n",
       "2015    252\n",
       "2016    252\n",
       "2017    251\n",
       "2018    251\n",
       "2019    252\n",
       "2020    253\n",
       "2021    145\n",
       "Name: Year, dtype: int64"
      ]
     },
     "execution_count": 10,
     "metadata": {},
     "output_type": "execute_result"
    }
   ],
   "source": [
    "df_aapl['Year'].value_counts().sort_index()"
   ]
  },
  {
   "cell_type": "code",
   "execution_count": 11,
   "metadata": {},
   "outputs": [
    {
     "data": {
      "text/plain": [
       "<AxesSubplot:xlabel='Year'>"
      ]
     },
     "execution_count": 11,
     "metadata": {},
     "output_type": "execute_result"
    },
    {
     "data": {
      "image/png": "[encoded data removed]",
      "text/plain": [
       "<Figure size 864x576 with 1 Axes>"
      ]
     },
     "metadata": {
      "needs_background": "light"
     },
     "output_type": "display_data"
    }
   ],
   "source": [
    "# Calculate Average 'Close' share price for each year (Groupby Year)\n",
    "df_aapl.groupby('Year')['Close'].mean().sort_index().plot()"
   ]
  },
  {
   "cell_type": "markdown",
   "metadata": {},
   "source": [
    "### Which 5 dates correspond to the greatest increase in AAPL stock?\n",
    "- Output percent increase in previous day's closing price\n",
    "- SQL would use `100 * Close / LAG(Close,1) OVER(ORDER BY Date) AS pct_close_change`\n",
    "- We'll have to create lag variables!!"
   ]
  },
  {
   "cell_type": "markdown",
   "metadata": {},
   "source": [
    "### Creating LAG variables\n",
    "\n",
    "Modeling time series data can be challenging, because you must spend some time transforming your data to a format unique to time series models. This usually means transforming date columns into pandas datetime columns using `pd.to_datetime()` and calculating lagged variables, which help you determine how past values influence current and future values (auto-correlation). \n",
    "\n",
    "To generate lagged variables, here are some helpful methods:\n",
    "- `.shift()`: Lag one or more variables across one group. Can be used with `.groupby()`\n",
    "- `.unstack()`: Lag one variable across multiple groups."
   ]
  },
  {
   "cell_type": "code",
   "execution_count": 12,
   "metadata": {},
   "outputs": [],
   "source": [
    "df_aapl[\"Date\"] = pd.to_datetime(df_aapl['Date'])"
   ]
  },
  {
   "cell_type": "markdown",
   "metadata": {},
   "source": [
    "### Create Lagged `Close` values with `.shift()` \n",
    "- With only one series in your DataFrame, you can apply `.shift()` directly to the column of interest.\n",
    "- To be more careful, you can set the `Date` column as the index and specify the number of steps (here, 1 “day”) to lag after we set the date column as an index. \n",
    "    - `df.set_index([\"Date\"]).shift(1)`\n",
    "- NOTE: you can use a negative number as the shift, so that future values are influencing the past."
   ]
  },
  {
   "cell_type": "code",
   "execution_count": 13,
   "metadata": {},
   "outputs": [],
   "source": [
    "df_aapl['day_prev_close'] = df_aapl['Close'].shift(1)\n",
    "df_aapl['min_2_close'] = df_aapl['Close'].shift(2)\n",
    "df_aapl['min_3_close'] = df_aapl['Close'].shift(3)\n",
    "df_aapl['min_4_close'] = df_aapl['Close'].shift(4)"
   ]
  },
  {
   "cell_type": "code",
   "execution_count": 14,
   "metadata": {},
   "outputs": [
    {
     "data": {
      "text/html": [
       "<div>\n",
       "<style scoped>\n",
       "    .dataframe tbody tr th:only-of-type {\n",
       "        vertical-align: middle;\n",
       "    }\n",
       "\n",
       "    .dataframe tbody tr th {\n",
       "        vertical-align: top;\n",
       "    }\n",
       "\n",
       "    .dataframe thead th {\n",
       "        text-align: right;\n",
       "    }\n",
       "</style>\n",
       "<table border=\"1\" class=\"dataframe\">\n",
       "  <thead>\n",
       "    <tr style=\"text-align: right;\">\n",
       "      <th></th>\n",
       "      <th>Date</th>\n",
       "      <th>Close</th>\n",
       "      <th>Year</th>\n",
       "      <th>day_prev_close</th>\n",
       "      <th>min_2_close</th>\n",
       "      <th>min_3_close</th>\n",
       "      <th>min_4_close</th>\n",
       "    </tr>\n",
       "  </thead>\n",
       "  <tbody>\n",
       "    <tr>\n",
       "      <th>0</th>\n",
       "      <td>2011-08-01</td>\n",
       "      <td>14.169643</td>\n",
       "      <td>2011</td>\n",
       "      <td>NaN</td>\n",
       "      <td>NaN</td>\n",
       "      <td>NaN</td>\n",
       "      <td>NaN</td>\n",
       "    </tr>\n",
       "    <tr>\n",
       "      <th>1</th>\n",
       "      <td>2011-08-02</td>\n",
       "      <td>13.889643</td>\n",
       "      <td>2011</td>\n",
       "      <td>14.169643</td>\n",
       "      <td>NaN</td>\n",
       "      <td>NaN</td>\n",
       "      <td>NaN</td>\n",
       "    </tr>\n",
       "    <tr>\n",
       "      <th>2</th>\n",
       "      <td>2011-08-03</td>\n",
       "      <td>14.020357</td>\n",
       "      <td>2011</td>\n",
       "      <td>13.889643</td>\n",
       "      <td>14.169643</td>\n",
       "      <td>NaN</td>\n",
       "      <td>NaN</td>\n",
       "    </tr>\n",
       "    <tr>\n",
       "      <th>3</th>\n",
       "      <td>2011-08-04</td>\n",
       "      <td>13.477500</td>\n",
       "      <td>2011</td>\n",
       "      <td>14.020357</td>\n",
       "      <td>13.889643</td>\n",
       "      <td>14.169643</td>\n",
       "      <td>NaN</td>\n",
       "    </tr>\n",
       "    <tr>\n",
       "      <th>4</th>\n",
       "      <td>2011-08-05</td>\n",
       "      <td>13.343571</td>\n",
       "      <td>2011</td>\n",
       "      <td>13.477500</td>\n",
       "      <td>14.020357</td>\n",
       "      <td>13.889643</td>\n",
       "      <td>14.169643</td>\n",
       "    </tr>\n",
       "  </tbody>\n",
       "</table>\n",
       "</div>"
      ],
      "text/plain": [
       "        Date      Close  Year  day_prev_close  min_2_close  min_3_close  \\\n",
       "0 2011-08-01  14.169643  2011             NaN          NaN          NaN   \n",
       "1 2011-08-02  13.889643  2011       14.169643          NaN          NaN   \n",
       "2 2011-08-03  14.020357  2011       13.889643    14.169643          NaN   \n",
       "3 2011-08-04  13.477500  2011       14.020357    13.889643    14.169643   \n",
       "4 2011-08-05  13.343571  2011       13.477500    14.020357    13.889643   \n",
       "\n",
       "   min_4_close  \n",
       "0          NaN  \n",
       "1          NaN  \n",
       "2          NaN  \n",
       "3          NaN  \n",
       "4    14.169643  "
      ]
     },
     "execution_count": 14,
     "metadata": {},
     "output_type": "execute_result"
    }
   ],
   "source": [
    "# Take a look at the new columns you created -- there are NaN values for previous rows when expected, right?\n",
    "df_aapl.head()"
   ]
  },
  {
   "cell_type": "markdown",
   "metadata": {},
   "source": [
    "### Find the percentage change in closing value over previous day:\n",
    "- Assign the resulting series to the column: 'pct_close_change'\n",
    "- 100 * (df['Close']/df['day_prev_close'])"
   ]
  },
  {
   "cell_type": "code",
   "execution_count": 15,
   "metadata": {},
   "outputs": [
    {
     "data": {
      "text/plain": [
       "0           NaN\n",
       "1     98.023945\n",
       "2    100.941090\n",
       "3     96.128080\n",
       "4     99.006277\n",
       "Name: pct_close_change, dtype: float64"
      ]
     },
     "execution_count": 15,
     "metadata": {},
     "output_type": "execute_result"
    }
   ],
   "source": [
    "df_aapl['pct_close_change'] = 100* (df_aapl['Close']/df_aapl['day_prev_close'])\n",
    "df_aapl['pct_close_change'].head()"
   ]
  },
  {
   "cell_type": "code",
   "execution_count": 16,
   "metadata": {},
   "outputs": [
    {
     "name": "stderr",
     "output_type": "stream",
     "text": [
      "C:\\Users\\jitwkoh\\Anaconda3\\lib\\site-packages\\seaborn\\distributions.py:2551: FutureWarning: `distplot` is a deprecated function and will be removed in a future version. Please adapt your code to use either `displot` (a figure-level function with similar flexibility) or `histplot` (an axes-level function for histograms).\n",
      "  warnings.warn(msg, FutureWarning)\n"
     ]
    },
    {
     "data": {
      "text/plain": [
       "<AxesSubplot:xlabel='pct_close_change', ylabel='Density'>"
      ]
     },
     "execution_count": 16,
     "metadata": {},
     "output_type": "execute_result"
    },
    {
     "data": {
      "image/png": "[encoded data removed]",
      "text/plain": [
       "<Figure size 864x576 with 1 Axes>"
      ]
     },
     "metadata": {
      "needs_background": "light"
     },
     "output_type": "display_data"
    }
   ],
   "source": [
    "sns.distplot(df_aapl.pct_close_change.dropna())"
   ]
  },
  {
   "cell_type": "markdown",
   "metadata": {},
   "source": [
    "### Lag one variable across multiple groups — using “unstack” method\n",
    "- Use this when you have multiple groups/ stock prices, but only one variable to be lagged (`Close`). \n",
    "- NOTE OF CAUTION: We must index our data first, then unstack to separate the groups before applying the lag function. Otherwise the last value of the previous group will become the next value of the next group!\n",
    "    - Set the index to be the date AND your groups.\n",
    "    - Separate the groups using unstack\n",
    "    - Apply `.shift()` to the variable you want to lag."
   ]
  },
  {
   "cell_type": "code",
   "execution_count": 17,
   "metadata": {},
   "outputs": [
    {
     "data": {
      "text/html": [
       "<div>\n",
       "<style scoped>\n",
       "    .dataframe tbody tr th:only-of-type {\n",
       "        vertical-align: middle;\n",
       "    }\n",
       "\n",
       "    .dataframe tbody tr th {\n",
       "        vertical-align: top;\n",
       "    }\n",
       "\n",
       "    .dataframe thead th {\n",
       "        text-align: right;\n",
       "    }\n",
       "</style>\n",
       "<table border=\"1\" class=\"dataframe\">\n",
       "  <thead>\n",
       "    <tr style=\"text-align: right;\">\n",
       "      <th></th>\n",
       "      <th>Date</th>\n",
       "      <th>Open</th>\n",
       "      <th>High</th>\n",
       "      <th>Low</th>\n",
       "      <th>Close</th>\n",
       "      <th>Adj Close</th>\n",
       "      <th>Volume</th>\n",
       "    </tr>\n",
       "  </thead>\n",
       "  <tbody>\n",
       "    <tr>\n",
       "      <th>0</th>\n",
       "      <td>2011-08-01</td>\n",
       "      <td>225.000000</td>\n",
       "      <td>227.449997</td>\n",
       "      <td>217.660004</td>\n",
       "      <td>221.320007</td>\n",
       "      <td>221.320007</td>\n",
       "      <td>5789300</td>\n",
       "    </tr>\n",
       "    <tr>\n",
       "      <th>1</th>\n",
       "      <td>2011-08-02</td>\n",
       "      <td>220.320007</td>\n",
       "      <td>222.429993</td>\n",
       "      <td>211.300003</td>\n",
       "      <td>211.699997</td>\n",
       "      <td>211.699997</td>\n",
       "      <td>6586700</td>\n",
       "    </tr>\n",
       "    <tr>\n",
       "      <th>2</th>\n",
       "      <td>2011-08-03</td>\n",
       "      <td>212.970001</td>\n",
       "      <td>214.830002</td>\n",
       "      <td>205.539993</td>\n",
       "      <td>209.960007</td>\n",
       "      <td>209.960007</td>\n",
       "      <td>8197100</td>\n",
       "    </tr>\n",
       "    <tr>\n",
       "      <th>3</th>\n",
       "      <td>2011-08-04</td>\n",
       "      <td>206.729996</td>\n",
       "      <td>208.000000</td>\n",
       "      <td>201.449997</td>\n",
       "      <td>201.479996</td>\n",
       "      <td>201.479996</td>\n",
       "      <td>6579500</td>\n",
       "    </tr>\n",
       "    <tr>\n",
       "      <th>4</th>\n",
       "      <td>2011-08-05</td>\n",
       "      <td>204.669998</td>\n",
       "      <td>207.320007</td>\n",
       "      <td>194.839996</td>\n",
       "      <td>202.699997</td>\n",
       "      <td>202.699997</td>\n",
       "      <td>10024000</td>\n",
       "    </tr>\n",
       "  </tbody>\n",
       "</table>\n",
       "</div>"
      ],
      "text/plain": [
       "         Date        Open        High         Low       Close   Adj Close  \\\n",
       "0  2011-08-01  225.000000  227.449997  217.660004  221.320007  221.320007   \n",
       "1  2011-08-02  220.320007  222.429993  211.300003  211.699997  211.699997   \n",
       "2  2011-08-03  212.970001  214.830002  205.539993  209.960007  209.960007   \n",
       "3  2011-08-04  206.729996  208.000000  201.449997  201.479996  201.479996   \n",
       "4  2011-08-05  204.669998  207.320007  194.839996  202.699997  202.699997   \n",
       "\n",
       "     Volume  \n",
       "0   5789300  \n",
       "1   6586700  \n",
       "2   8197100  \n",
       "3   6579500  \n",
       "4  10024000  "
      ]
     },
     "execution_count": 17,
     "metadata": {},
     "output_type": "execute_result"
    }
   ],
   "source": [
    "# Read in another stock time series\n",
    "amzn = pd.read_csv('AMZN_10y.csv')\n",
    "amzn.head()"
   ]
  },
  {
   "cell_type": "code",
   "execution_count": 18,
   "metadata": {},
   "outputs": [],
   "source": [
    "amzn = amzn[['Date', 'Close']].copy()"
   ]
  },
  {
   "cell_type": "code",
   "execution_count": 19,
   "metadata": {},
   "outputs": [],
   "source": [
    "# Create a column that indicates what stock this is:\n",
    "amzn['Symbol'] = 'AMZN'"
   ]
  },
  {
   "cell_type": "code",
   "execution_count": 20,
   "metadata": {},
   "outputs": [],
   "source": [
    "df_aapl['Symbol'] = 'AAPL'"
   ]
  },
  {
   "cell_type": "code",
   "execution_count": 21,
   "metadata": {},
   "outputs": [],
   "source": [
    "amzn['Date'] = pd.to_datetime(amzn['Date'])"
   ]
  },
  {
   "cell_type": "code",
   "execution_count": 22,
   "metadata": {},
   "outputs": [
    {
     "data": {
      "text/html": [
       "<div>\n",
       "<style scoped>\n",
       "    .dataframe tbody tr th:only-of-type {\n",
       "        vertical-align: middle;\n",
       "    }\n",
       "\n",
       "    .dataframe tbody tr th {\n",
       "        vertical-align: top;\n",
       "    }\n",
       "\n",
       "    .dataframe thead th {\n",
       "        text-align: right;\n",
       "    }\n",
       "</style>\n",
       "<table border=\"1\" class=\"dataframe\">\n",
       "  <thead>\n",
       "    <tr style=\"text-align: right;\">\n",
       "      <th></th>\n",
       "      <th>Date</th>\n",
       "      <th>Symbol</th>\n",
       "      <th>Close</th>\n",
       "    </tr>\n",
       "  </thead>\n",
       "  <tbody>\n",
       "    <tr>\n",
       "      <th>0</th>\n",
       "      <td>2011-08-01</td>\n",
       "      <td>AAPL</td>\n",
       "      <td>14.169643</td>\n",
       "    </tr>\n",
       "    <tr>\n",
       "      <th>1</th>\n",
       "      <td>2011-08-02</td>\n",
       "      <td>AAPL</td>\n",
       "      <td>13.889643</td>\n",
       "    </tr>\n",
       "    <tr>\n",
       "      <th>2</th>\n",
       "      <td>2011-08-03</td>\n",
       "      <td>AAPL</td>\n",
       "      <td>14.020357</td>\n",
       "    </tr>\n",
       "    <tr>\n",
       "      <th>3</th>\n",
       "      <td>2011-08-04</td>\n",
       "      <td>AAPL</td>\n",
       "      <td>13.477500</td>\n",
       "    </tr>\n",
       "    <tr>\n",
       "      <th>4</th>\n",
       "      <td>2011-08-05</td>\n",
       "      <td>AAPL</td>\n",
       "      <td>13.343571</td>\n",
       "    </tr>\n",
       "  </tbody>\n",
       "</table>\n",
       "</div>"
      ],
      "text/plain": [
       "        Date Symbol      Close\n",
       "0 2011-08-01   AAPL  14.169643\n",
       "1 2011-08-02   AAPL  13.889643\n",
       "2 2011-08-03   AAPL  14.020357\n",
       "3 2011-08-04   AAPL  13.477500\n",
       "4 2011-08-05   AAPL  13.343571"
      ]
     },
     "execution_count": 22,
     "metadata": {},
     "output_type": "execute_result"
    }
   ],
   "source": [
    "# Concatenate the Date, symbol and close columns of the AAPL and AMZN data by row\n",
    "group_df = pd.concat([df_aapl[['Date','Symbol', 'Close']], amzn[['Date', 'Symbol','Close']]], axis = 0)\n",
    "group_df.head()"
   ]
  },
  {
   "cell_type": "code",
   "execution_count": 23,
   "metadata": {},
   "outputs": [
    {
     "data": {
      "text/plain": [
       "AMZN    2517\n",
       "AAPL    2517\n",
       "Name: Symbol, dtype: int64"
      ]
     },
     "execution_count": 23,
     "metadata": {},
     "output_type": "execute_result"
    }
   ],
   "source": [
    "group_df['Symbol'].value_counts()"
   ]
  },
  {
   "cell_type": "code",
   "execution_count": 24,
   "metadata": {},
   "outputs": [],
   "source": [
    "# Set your index!\n",
    "grouped_df = group_df.set_index([\"Date\", \"Symbol\"]) "
   ]
  },
  {
   "cell_type": "code",
   "execution_count": 25,
   "metadata": {},
   "outputs": [
    {
     "data": {
      "text/html": [
       "<div>\n",
       "<style scoped>\n",
       "    .dataframe tbody tr th:only-of-type {\n",
       "        vertical-align: middle;\n",
       "    }\n",
       "\n",
       "    .dataframe tbody tr th {\n",
       "        vertical-align: top;\n",
       "    }\n",
       "\n",
       "    .dataframe thead th {\n",
       "        text-align: right;\n",
       "    }\n",
       "</style>\n",
       "<table border=\"1\" class=\"dataframe\">\n",
       "  <thead>\n",
       "    <tr style=\"text-align: right;\">\n",
       "      <th></th>\n",
       "      <th></th>\n",
       "      <th>Close</th>\n",
       "    </tr>\n",
       "    <tr>\n",
       "      <th>Date</th>\n",
       "      <th>Symbol</th>\n",
       "      <th></th>\n",
       "    </tr>\n",
       "  </thead>\n",
       "  <tbody>\n",
       "    <tr>\n",
       "      <th>2011-08-01</th>\n",
       "      <th>AAPL</th>\n",
       "      <td>14.169643</td>\n",
       "    </tr>\n",
       "    <tr>\n",
       "      <th>2011-08-02</th>\n",
       "      <th>AAPL</th>\n",
       "      <td>13.889643</td>\n",
       "    </tr>\n",
       "    <tr>\n",
       "      <th>2011-08-03</th>\n",
       "      <th>AAPL</th>\n",
       "      <td>14.020357</td>\n",
       "    </tr>\n",
       "    <tr>\n",
       "      <th>2011-08-04</th>\n",
       "      <th>AAPL</th>\n",
       "      <td>13.477500</td>\n",
       "    </tr>\n",
       "    <tr>\n",
       "      <th>2011-08-05</th>\n",
       "      <th>AAPL</th>\n",
       "      <td>13.343571</td>\n",
       "    </tr>\n",
       "  </tbody>\n",
       "</table>\n",
       "</div>"
      ],
      "text/plain": [
       "                       Close\n",
       "Date       Symbol           \n",
       "2011-08-01 AAPL    14.169643\n",
       "2011-08-02 AAPL    13.889643\n",
       "2011-08-03 AAPL    14.020357\n",
       "2011-08-04 AAPL    13.477500\n",
       "2011-08-05 AAPL    13.343571"
      ]
     },
     "execution_count": 25,
     "metadata": {},
     "output_type": "execute_result"
    }
   ],
   "source": [
    "grouped_df.head()"
   ]
  },
  {
   "cell_type": "code",
   "execution_count": 26,
   "metadata": {},
   "outputs": [
    {
     "data": {
      "text/html": [
       "<div>\n",
       "<style scoped>\n",
       "    .dataframe tbody tr th:only-of-type {\n",
       "        vertical-align: middle;\n",
       "    }\n",
       "\n",
       "    .dataframe tbody tr th {\n",
       "        vertical-align: top;\n",
       "    }\n",
       "\n",
       "    .dataframe thead th {\n",
       "        text-align: right;\n",
       "    }\n",
       "</style>\n",
       "<table border=\"1\" class=\"dataframe\">\n",
       "  <thead>\n",
       "    <tr style=\"text-align: right;\">\n",
       "      <th>Symbol</th>\n",
       "      <th>AAPL</th>\n",
       "      <th>AMZN</th>\n",
       "    </tr>\n",
       "    <tr>\n",
       "      <th>Date</th>\n",
       "      <th></th>\n",
       "      <th></th>\n",
       "    </tr>\n",
       "  </thead>\n",
       "  <tbody>\n",
       "    <tr>\n",
       "      <th>2011-08-01</th>\n",
       "      <td>14.169643</td>\n",
       "      <td>221.320007</td>\n",
       "    </tr>\n",
       "    <tr>\n",
       "      <th>2011-08-02</th>\n",
       "      <td>13.889643</td>\n",
       "      <td>211.699997</td>\n",
       "    </tr>\n",
       "    <tr>\n",
       "      <th>2011-08-03</th>\n",
       "      <td>14.020357</td>\n",
       "      <td>209.960007</td>\n",
       "    </tr>\n",
       "    <tr>\n",
       "      <th>2011-08-04</th>\n",
       "      <td>13.477500</td>\n",
       "      <td>201.479996</td>\n",
       "    </tr>\n",
       "    <tr>\n",
       "      <th>2011-08-05</th>\n",
       "      <td>13.343571</td>\n",
       "      <td>202.699997</td>\n",
       "    </tr>\n",
       "  </tbody>\n",
       "</table>\n",
       "</div>"
      ],
      "text/plain": [
       "Symbol           AAPL        AMZN\n",
       "Date                             \n",
       "2011-08-01  14.169643  221.320007\n",
       "2011-08-02  13.889643  211.699997\n",
       "2011-08-03  14.020357  209.960007\n",
       "2011-08-04  13.477500  201.479996\n",
       "2011-08-05  13.343571  202.699997"
      ]
     },
     "execution_count": 26,
     "metadata": {},
     "output_type": "execute_result"
    }
   ],
   "source": [
    "grouped_df.unstack()['Close'].head()"
   ]
  },
  {
   "cell_type": "code",
   "execution_count": 27,
   "metadata": {},
   "outputs": [
    {
     "data": {
      "text/html": [
       "<div>\n",
       "<style scoped>\n",
       "    .dataframe tbody tr th:only-of-type {\n",
       "        vertical-align: middle;\n",
       "    }\n",
       "\n",
       "    .dataframe tbody tr th {\n",
       "        vertical-align: top;\n",
       "    }\n",
       "\n",
       "    .dataframe thead th {\n",
       "        text-align: right;\n",
       "    }\n",
       "</style>\n",
       "<table border=\"1\" class=\"dataframe\">\n",
       "  <thead>\n",
       "    <tr style=\"text-align: right;\">\n",
       "      <th>Symbol</th>\n",
       "      <th>AAPL</th>\n",
       "      <th>AMZN</th>\n",
       "    </tr>\n",
       "    <tr>\n",
       "      <th>Date</th>\n",
       "      <th></th>\n",
       "      <th></th>\n",
       "    </tr>\n",
       "  </thead>\n",
       "  <tbody>\n",
       "    <tr>\n",
       "      <th>2011-08-01</th>\n",
       "      <td>NaN</td>\n",
       "      <td>NaN</td>\n",
       "    </tr>\n",
       "    <tr>\n",
       "      <th>2011-08-02</th>\n",
       "      <td>14.169643</td>\n",
       "      <td>221.320007</td>\n",
       "    </tr>\n",
       "    <tr>\n",
       "      <th>2011-08-03</th>\n",
       "      <td>13.889643</td>\n",
       "      <td>211.699997</td>\n",
       "    </tr>\n",
       "    <tr>\n",
       "      <th>2011-08-04</th>\n",
       "      <td>14.020357</td>\n",
       "      <td>209.960007</td>\n",
       "    </tr>\n",
       "    <tr>\n",
       "      <th>2011-08-05</th>\n",
       "      <td>13.477500</td>\n",
       "      <td>201.479996</td>\n",
       "    </tr>\n",
       "  </tbody>\n",
       "</table>\n",
       "</div>"
      ],
      "text/plain": [
       "Symbol           AAPL        AMZN\n",
       "Date                             \n",
       "2011-08-01        NaN         NaN\n",
       "2011-08-02  14.169643  221.320007\n",
       "2011-08-03  13.889643  211.699997\n",
       "2011-08-04  14.020357  209.960007\n",
       "2011-08-05  13.477500  201.479996"
      ]
     },
     "execution_count": 27,
     "metadata": {},
     "output_type": "execute_result"
    }
   ],
   "source": [
    "grouped_df.unstack()['Close'].shift(1).head()   "
   ]
  },
  {
   "cell_type": "code",
   "execution_count": 28,
   "metadata": {},
   "outputs": [
    {
     "data": {
      "text/html": [
       "<div>\n",
       "<style scoped>\n",
       "    .dataframe tbody tr th:only-of-type {\n",
       "        vertical-align: middle;\n",
       "    }\n",
       "\n",
       "    .dataframe tbody tr th {\n",
       "        vertical-align: top;\n",
       "    }\n",
       "\n",
       "    .dataframe thead th {\n",
       "        text-align: right;\n",
       "    }\n",
       "</style>\n",
       "<table border=\"1\" class=\"dataframe\">\n",
       "  <thead>\n",
       "    <tr style=\"text-align: right;\">\n",
       "      <th>Symbol</th>\n",
       "      <th>AAPL</th>\n",
       "      <th>AMZN</th>\n",
       "    </tr>\n",
       "    <tr>\n",
       "      <th>Date</th>\n",
       "      <th></th>\n",
       "      <th></th>\n",
       "    </tr>\n",
       "  </thead>\n",
       "  <tbody>\n",
       "    <tr>\n",
       "      <th>2011-08-01</th>\n",
       "      <td>NaN</td>\n",
       "      <td>NaN</td>\n",
       "    </tr>\n",
       "    <tr>\n",
       "      <th>2011-08-02</th>\n",
       "      <td>14.169643</td>\n",
       "      <td>221.320007</td>\n",
       "    </tr>\n",
       "  </tbody>\n",
       "</table>\n",
       "</div>"
      ],
      "text/plain": [
       "Symbol           AAPL        AMZN\n",
       "Date                             \n",
       "2011-08-01        NaN         NaN\n",
       "2011-08-02  14.169643  221.320007"
      ]
     },
     "execution_count": 28,
     "metadata": {},
     "output_type": "execute_result"
    }
   ],
   "source": [
    "# Separate the groups with unstack(), apply shift with lag step=1\n",
    "lagged_df = grouped_df.unstack()['Close'].shift(1)     \n",
    "lagged_df.head(2)"
   ]
  },
  {
   "cell_type": "code",
   "execution_count": 29,
   "metadata": {},
   "outputs": [
    {
     "data": {
      "text/plain": [
       "Date        Symbol\n",
       "2011-08-01  AAPL             NaN\n",
       "            AMZN             NaN\n",
       "2011-08-02  AAPL       14.169643\n",
       "            AMZN      221.320007\n",
       "2011-08-03  AAPL       13.889643\n",
       "dtype: float64"
      ]
     },
     "execution_count": 29,
     "metadata": {},
     "output_type": "execute_result"
    }
   ],
   "source": [
    "# stack the groups back, keep the missing values\n",
    "lagged_df = lagged_df.stack(dropna=False)\n",
    "lagged_df.head()"
   ]
  },
  {
   "cell_type": "code",
   "execution_count": 30,
   "metadata": {},
   "outputs": [
    {
     "data": {
      "text/plain": [
       "Date        Symbol\n",
       "2011-08-01  AAPL       14.169643\n",
       "            AMZN      221.320007\n",
       "2011-08-02  AAPL       13.889643\n",
       "            AMZN      211.699997\n",
       "2011-08-03  AAPL       14.020357\n",
       "Name: Close, dtype: float64"
      ]
     },
     "execution_count": 30,
     "metadata": {},
     "output_type": "execute_result"
    }
   ],
   "source": [
    "grouped_df = grouped_df.sort_index(axis = 0)['Close']\n",
    "grouped_df.head()"
   ]
  },
  {
   "cell_type": "markdown",
   "metadata": {},
   "source": [
    "### Merge the original Series and the new Series into a DataFrame\n",
    "- The result of the previous actions of stacking and unstacking was reducing the frame into a pandas Series.\n",
    "- Let's concatenate them along columns, since we know they have the same indexes"
   ]
  },
  {
   "cell_type": "code",
   "execution_count": 31,
   "metadata": {},
   "outputs": [
    {
     "data": {
      "text/html": [
       "<div>\n",
       "<style scoped>\n",
       "    .dataframe tbody tr th:only-of-type {\n",
       "        vertical-align: middle;\n",
       "    }\n",
       "\n",
       "    .dataframe tbody tr th {\n",
       "        vertical-align: top;\n",
       "    }\n",
       "\n",
       "    .dataframe thead th {\n",
       "        text-align: right;\n",
       "    }\n",
       "</style>\n",
       "<table border=\"1\" class=\"dataframe\">\n",
       "  <thead>\n",
       "    <tr style=\"text-align: right;\">\n",
       "      <th></th>\n",
       "      <th></th>\n",
       "      <th>Close</th>\n",
       "      <th>0</th>\n",
       "    </tr>\n",
       "    <tr>\n",
       "      <th>Date</th>\n",
       "      <th>Symbol</th>\n",
       "      <th></th>\n",
       "      <th></th>\n",
       "    </tr>\n",
       "  </thead>\n",
       "  <tbody>\n",
       "    <tr>\n",
       "      <th rowspan=\"2\" valign=\"top\">2011-08-01</th>\n",
       "      <th>AAPL</th>\n",
       "      <td>14.169643</td>\n",
       "      <td>NaN</td>\n",
       "    </tr>\n",
       "    <tr>\n",
       "      <th>AMZN</th>\n",
       "      <td>221.320007</td>\n",
       "      <td>NaN</td>\n",
       "    </tr>\n",
       "    <tr>\n",
       "      <th rowspan=\"2\" valign=\"top\">2011-08-02</th>\n",
       "      <th>AAPL</th>\n",
       "      <td>13.889643</td>\n",
       "      <td>14.169643</td>\n",
       "    </tr>\n",
       "    <tr>\n",
       "      <th>AMZN</th>\n",
       "      <td>211.699997</td>\n",
       "      <td>221.320007</td>\n",
       "    </tr>\n",
       "    <tr>\n",
       "      <th>2011-08-03</th>\n",
       "      <th>AAPL</th>\n",
       "      <td>14.020357</td>\n",
       "      <td>13.889643</td>\n",
       "    </tr>\n",
       "  </tbody>\n",
       "</table>\n",
       "</div>"
      ],
      "text/plain": [
       "                        Close           0\n",
       "Date       Symbol                        \n",
       "2011-08-01 AAPL     14.169643         NaN\n",
       "           AMZN    221.320007         NaN\n",
       "2011-08-02 AAPL     13.889643   14.169643\n",
       "           AMZN    211.699997  221.320007\n",
       "2011-08-03 AAPL     14.020357   13.889643"
      ]
     },
     "execution_count": 31,
     "metadata": {},
     "output_type": "execute_result"
    }
   ],
   "source": [
    "# Take a look at what would happen if you merge the two via column-wise concatenation (axis = 1)\n",
    "pd.concat([grouped_df, lagged_df], axis = 1).head()"
   ]
  },
  {
   "cell_type": "code",
   "execution_count": 32,
   "metadata": {},
   "outputs": [],
   "source": [
    "final = pd.concat([grouped_df, lagged_df], axis = 1)"
   ]
  },
  {
   "cell_type": "code",
   "execution_count": 33,
   "metadata": {},
   "outputs": [
    {
     "data": {
      "text/html": [
       "<div>\n",
       "<style scoped>\n",
       "    .dataframe tbody tr th:only-of-type {\n",
       "        vertical-align: middle;\n",
       "    }\n",
       "\n",
       "    .dataframe tbody tr th {\n",
       "        vertical-align: top;\n",
       "    }\n",
       "\n",
       "    .dataframe thead th {\n",
       "        text-align: right;\n",
       "    }\n",
       "</style>\n",
       "<table border=\"1\" class=\"dataframe\">\n",
       "  <thead>\n",
       "    <tr style=\"text-align: right;\">\n",
       "      <th></th>\n",
       "      <th></th>\n",
       "      <th>Close</th>\n",
       "      <th>day_prev_close</th>\n",
       "    </tr>\n",
       "    <tr>\n",
       "      <th>Date</th>\n",
       "      <th>Symbol</th>\n",
       "      <th></th>\n",
       "      <th></th>\n",
       "    </tr>\n",
       "  </thead>\n",
       "  <tbody>\n",
       "    <tr>\n",
       "      <th rowspan=\"2\" valign=\"top\">2011-08-01</th>\n",
       "      <th>AAPL</th>\n",
       "      <td>14.169643</td>\n",
       "      <td>NaN</td>\n",
       "    </tr>\n",
       "    <tr>\n",
       "      <th>AMZN</th>\n",
       "      <td>221.320007</td>\n",
       "      <td>NaN</td>\n",
       "    </tr>\n",
       "    <tr>\n",
       "      <th rowspan=\"2\" valign=\"top\">2011-08-02</th>\n",
       "      <th>AAPL</th>\n",
       "      <td>13.889643</td>\n",
       "      <td>14.169643</td>\n",
       "    </tr>\n",
       "    <tr>\n",
       "      <th>AMZN</th>\n",
       "      <td>211.699997</td>\n",
       "      <td>221.320007</td>\n",
       "    </tr>\n",
       "    <tr>\n",
       "      <th>2011-08-03</th>\n",
       "      <th>AAPL</th>\n",
       "      <td>14.020357</td>\n",
       "      <td>13.889643</td>\n",
       "    </tr>\n",
       "  </tbody>\n",
       "</table>\n",
       "</div>"
      ],
      "text/plain": [
       "                        Close  day_prev_close\n",
       "Date       Symbol                            \n",
       "2011-08-01 AAPL     14.169643             NaN\n",
       "           AMZN    221.320007             NaN\n",
       "2011-08-02 AAPL     13.889643       14.169643\n",
       "           AMZN    211.699997      221.320007\n",
       "2011-08-03 AAPL     14.020357       13.889643"
      ]
     },
     "execution_count": 33,
     "metadata": {},
     "output_type": "execute_result"
    }
   ],
   "source": [
    "# Rename the 0 lagged column as 'day_prev_close'\n",
    "final.rename(columns = {0: 'day_prev_close'}, inplace= True)\n",
    "final.head()"
   ]
  },
  {
   "cell_type": "markdown",
   "metadata": {},
   "source": [
    "The dataframe now has a MultiIndex with two levels, the first given by the Date, the second by the Symbol. \n"
   ]
  },
  {
   "cell_type": "code",
   "execution_count": 34,
   "metadata": {},
   "outputs": [
    {
     "data": {
      "text/plain": [
       "Close             13.854643\n",
       "day_prev_close    13.650000\n",
       "Name: (2011-12-01 00:00:00, AAPL), dtype: float64"
      ]
     },
     "execution_count": 34,
     "metadata": {},
     "output_type": "execute_result"
    }
   ],
   "source": [
    "# Grab one value of each Multiindex value:\n",
    "final.loc[('2011-12-01','AAPL')]"
   ]
  },
  {
   "cell_type": "markdown",
   "metadata": {},
   "source": [
    "### Slice by both indexes using `slice()`:\n",
    "- Use `.loc[]` to use label indexing\n",
    "- Use `.loc[(index 1 slice , index 2 slice ), column-indexing ]`\n",
    "- Use `slice()` for each index to define the subset you want to pull:\n",
    "- Use `pd.Timestamp()` inside the `slice()` for the `'Date'` column\n"
   ]
  },
  {
   "cell_type": "code",
   "execution_count": 35,
   "metadata": {},
   "outputs": [
    {
     "data": {
      "text/html": [
       "<div>\n",
       "<style scoped>\n",
       "    .dataframe tbody tr th:only-of-type {\n",
       "        vertical-align: middle;\n",
       "    }\n",
       "\n",
       "    .dataframe tbody tr th {\n",
       "        vertical-align: top;\n",
       "    }\n",
       "\n",
       "    .dataframe thead th {\n",
       "        text-align: right;\n",
       "    }\n",
       "</style>\n",
       "<table border=\"1\" class=\"dataframe\">\n",
       "  <thead>\n",
       "    <tr style=\"text-align: right;\">\n",
       "      <th></th>\n",
       "      <th></th>\n",
       "      <th>Close</th>\n",
       "      <th>day_prev_close</th>\n",
       "    </tr>\n",
       "    <tr>\n",
       "      <th>Date</th>\n",
       "      <th>Symbol</th>\n",
       "      <th></th>\n",
       "      <th></th>\n",
       "    </tr>\n",
       "  </thead>\n",
       "  <tbody>\n",
       "    <tr>\n",
       "      <th>2020-01-02</th>\n",
       "      <th>AAPL</th>\n",
       "      <td>75.087502</td>\n",
       "      <td>73.412498</td>\n",
       "    </tr>\n",
       "    <tr>\n",
       "      <th>2020-01-03</th>\n",
       "      <th>AAPL</th>\n",
       "      <td>74.357498</td>\n",
       "      <td>75.087502</td>\n",
       "    </tr>\n",
       "    <tr>\n",
       "      <th>2020-01-06</th>\n",
       "      <th>AAPL</th>\n",
       "      <td>74.949997</td>\n",
       "      <td>74.357498</td>\n",
       "    </tr>\n",
       "    <tr>\n",
       "      <th>2020-01-07</th>\n",
       "      <th>AAPL</th>\n",
       "      <td>74.597504</td>\n",
       "      <td>74.949997</td>\n",
       "    </tr>\n",
       "    <tr>\n",
       "      <th>2020-01-08</th>\n",
       "      <th>AAPL</th>\n",
       "      <td>75.797501</td>\n",
       "      <td>74.597504</td>\n",
       "    </tr>\n",
       "  </tbody>\n",
       "</table>\n",
       "</div>"
      ],
      "text/plain": [
       "                       Close  day_prev_close\n",
       "Date       Symbol                           \n",
       "2020-01-02 AAPL    75.087502       73.412498\n",
       "2020-01-03 AAPL    74.357498       75.087502\n",
       "2020-01-06 AAPL    74.949997       74.357498\n",
       "2020-01-07 AAPL    74.597504       74.949997\n",
       "2020-01-08 AAPL    75.797501       74.597504"
      ]
     },
     "execution_count": 35,
     "metadata": {},
     "output_type": "execute_result"
    }
   ],
   "source": [
    "# Slice a subset of the data by TimeStamp: Just 2020:\n",
    "final_2020_AAPL = final.loc[(slice(pd.Timestamp('2020-01-01 00:00:00'),pd.Timestamp('2020-06-01 00:00:00')),slice('AAPL')),:]\n",
    "final_2020_AAPL.head()"
   ]
  },
  {
   "cell_type": "code",
   "execution_count": 36,
   "metadata": {
    "scrolled": true
   },
   "outputs": [],
   "source": [
    "final_2020_AAPL = final_2020_AAPL.reset_index().head()"
   ]
  },
  {
   "cell_type": "code",
   "execution_count": 37,
   "metadata": {},
   "outputs": [],
   "source": [
    "final_2020_AAPL.reset_index(inplace=True)"
   ]
  },
  {
   "cell_type": "code",
   "execution_count": 38,
   "metadata": {},
   "outputs": [],
   "source": [
    "final_2020_AAPL.to_csv('AAPL_2020_closing_lagged.csv', index = False)"
   ]
  },
  {
   "cell_type": "code",
   "execution_count": 39,
   "metadata": {},
   "outputs": [
    {
     "data": {
      "text/html": [
       "<div>\n",
       "<style scoped>\n",
       "    .dataframe tbody tr th:only-of-type {\n",
       "        vertical-align: middle;\n",
       "    }\n",
       "\n",
       "    .dataframe tbody tr th {\n",
       "        vertical-align: top;\n",
       "    }\n",
       "\n",
       "    .dataframe thead th {\n",
       "        text-align: right;\n",
       "    }\n",
       "</style>\n",
       "<table border=\"1\" class=\"dataframe\">\n",
       "  <thead>\n",
       "    <tr style=\"text-align: right;\">\n",
       "      <th></th>\n",
       "      <th></th>\n",
       "      <th>Close</th>\n",
       "      <th>day_prev_close</th>\n",
       "    </tr>\n",
       "    <tr>\n",
       "      <th>Symbol</th>\n",
       "      <th>Date</th>\n",
       "      <th></th>\n",
       "      <th></th>\n",
       "    </tr>\n",
       "  </thead>\n",
       "  <tbody>\n",
       "    <tr>\n",
       "      <th rowspan=\"5\" valign=\"top\">AAPL</th>\n",
       "      <th>2011-08-01</th>\n",
       "      <td>14.169643</td>\n",
       "      <td>NaN</td>\n",
       "    </tr>\n",
       "    <tr>\n",
       "      <th>2011-08-02</th>\n",
       "      <td>13.889643</td>\n",
       "      <td>14.169643</td>\n",
       "    </tr>\n",
       "    <tr>\n",
       "      <th>2011-08-03</th>\n",
       "      <td>14.020357</td>\n",
       "      <td>13.889643</td>\n",
       "    </tr>\n",
       "    <tr>\n",
       "      <th>2011-08-04</th>\n",
       "      <td>13.477500</td>\n",
       "      <td>14.020357</td>\n",
       "    </tr>\n",
       "    <tr>\n",
       "      <th>2011-08-05</th>\n",
       "      <td>13.343571</td>\n",
       "      <td>13.477500</td>\n",
       "    </tr>\n",
       "  </tbody>\n",
       "</table>\n",
       "</div>"
      ],
      "text/plain": [
       "                       Close  day_prev_close\n",
       "Symbol Date                                 \n",
       "AAPL   2011-08-01  14.169643             NaN\n",
       "       2011-08-02  13.889643       14.169643\n",
       "       2011-08-03  14.020357       13.889643\n",
       "       2011-08-04  13.477500       14.020357\n",
       "       2011-08-05  13.343571       13.477500"
      ]
     },
     "execution_count": 39,
     "metadata": {},
     "output_type": "execute_result"
    }
   ],
   "source": [
    "# To swap the order/level of indexes\n",
    "final.swaplevel().sort_index(axis = 0).head()"
   ]
  },
  {
   "cell_type": "markdown",
   "metadata": {},
   "source": [
    "### Brief Aside: Lag Plots for Autocorrelation\n",
    "- Grab just AAPL data and run the pandas.plotting `lag_plots()` on the series\n",
    "- It uses the `'Date'` index as the `t` time variable"
   ]
  },
  {
   "cell_type": "code",
   "execution_count": 40,
   "metadata": {},
   "outputs": [
    {
     "data": {
      "text/html": [
       "<div>\n",
       "<style scoped>\n",
       "    .dataframe tbody tr th:only-of-type {\n",
       "        vertical-align: middle;\n",
       "    }\n",
       "\n",
       "    .dataframe tbody tr th {\n",
       "        vertical-align: top;\n",
       "    }\n",
       "\n",
       "    .dataframe thead th {\n",
       "        text-align: right;\n",
       "    }\n",
       "</style>\n",
       "<table border=\"1\" class=\"dataframe\">\n",
       "  <thead>\n",
       "    <tr style=\"text-align: right;\">\n",
       "      <th></th>\n",
       "      <th>Year</th>\n",
       "      <th>2011</th>\n",
       "      <th>2012</th>\n",
       "      <th>2013</th>\n",
       "      <th>2014</th>\n",
       "      <th>2015</th>\n",
       "      <th>2016</th>\n",
       "      <th>2017</th>\n",
       "      <th>2018</th>\n",
       "      <th>2019</th>\n",
       "      <th>2020</th>\n",
       "      <th>2021</th>\n",
       "    </tr>\n",
       "  </thead>\n",
       "  <tbody>\n",
       "    <tr>\n",
       "      <th rowspan=\"8\" valign=\"top\">Close</th>\n",
       "      <th>count</th>\n",
       "      <td>107.000000</td>\n",
       "      <td>250.000000</td>\n",
       "      <td>252.000000</td>\n",
       "      <td>252.000000</td>\n",
       "      <td>252.000000</td>\n",
       "      <td>252.000000</td>\n",
       "      <td>251.000000</td>\n",
       "      <td>251.000000</td>\n",
       "      <td>252.000000</td>\n",
       "      <td>253.000000</td>\n",
       "      <td>145.000000</td>\n",
       "    </tr>\n",
       "    <tr>\n",
       "      <th>mean</th>\n",
       "      <td>13.879302</td>\n",
       "      <td>20.573204</td>\n",
       "      <td>16.879817</td>\n",
       "      <td>23.066164</td>\n",
       "      <td>30.010000</td>\n",
       "      <td>26.151002</td>\n",
       "      <td>37.637769</td>\n",
       "      <td>47.263357</td>\n",
       "      <td>52.063988</td>\n",
       "      <td>95.347075</td>\n",
       "      <td>131.314552</td>\n",
       "    </tr>\n",
       "    <tr>\n",
       "      <th>std</th>\n",
       "      <td>0.507115</td>\n",
       "      <td>2.392032</td>\n",
       "      <td>1.603135</td>\n",
       "      <td>3.342823</td>\n",
       "      <td>1.920888</td>\n",
       "      <td>1.910186</td>\n",
       "      <td>3.655298</td>\n",
       "      <td>5.148465</td>\n",
       "      <td>8.634744</td>\n",
       "      <td>21.809814</td>\n",
       "      <td>7.719378</td>\n",
       "    </tr>\n",
       "    <tr>\n",
       "      <th>min</th>\n",
       "      <td>12.614643</td>\n",
       "      <td>14.686786</td>\n",
       "      <td>13.947500</td>\n",
       "      <td>17.849285</td>\n",
       "      <td>25.780001</td>\n",
       "      <td>22.584999</td>\n",
       "      <td>29.004999</td>\n",
       "      <td>36.707500</td>\n",
       "      <td>35.547501</td>\n",
       "      <td>56.092499</td>\n",
       "      <td>116.360001</td>\n",
       "    </tr>\n",
       "    <tr>\n",
       "      <th>25%</th>\n",
       "      <td>13.495179</td>\n",
       "      <td>19.244375</td>\n",
       "      <td>15.635803</td>\n",
       "      <td>19.421875</td>\n",
       "      <td>28.343125</td>\n",
       "      <td>24.284375</td>\n",
       "      <td>35.453750</td>\n",
       "      <td>43.285000</td>\n",
       "      <td>46.504999</td>\n",
       "      <td>77.385002</td>\n",
       "      <td>125.860001</td>\n",
       "    </tr>\n",
       "    <tr>\n",
       "      <th>50%</th>\n",
       "      <td>13.889643</td>\n",
       "      <td>20.803214</td>\n",
       "      <td>16.466964</td>\n",
       "      <td>23.475001</td>\n",
       "      <td>30.075000</td>\n",
       "      <td>26.437500</td>\n",
       "      <td>38.185001</td>\n",
       "      <td>46.512501</td>\n",
       "      <td>50.753749</td>\n",
       "      <td>91.632500</td>\n",
       "      <td>130.460007</td>\n",
       "    </tr>\n",
       "    <tr>\n",
       "      <th>75%</th>\n",
       "      <td>14.267678</td>\n",
       "      <td>22.050804</td>\n",
       "      <td>18.039285</td>\n",
       "      <td>25.281249</td>\n",
       "      <td>31.728126</td>\n",
       "      <td>27.744375</td>\n",
       "      <td>39.963751</td>\n",
       "      <td>51.940000</td>\n",
       "      <td>55.921249</td>\n",
       "      <td>115.750000</td>\n",
       "      <td>134.990005</td>\n",
       "    </tr>\n",
       "    <tr>\n",
       "      <th>max</th>\n",
       "      <td>15.080000</td>\n",
       "      <td>25.075001</td>\n",
       "      <td>20.360357</td>\n",
       "      <td>29.750000</td>\n",
       "      <td>33.250000</td>\n",
       "      <td>29.562500</td>\n",
       "      <td>44.105000</td>\n",
       "      <td>58.017502</td>\n",
       "      <td>73.412498</td>\n",
       "      <td>136.690002</td>\n",
       "      <td>149.149994</td>\n",
       "    </tr>\n",
       "    <tr>\n",
       "      <th rowspan=\"8\" valign=\"top\">day_prev_close</th>\n",
       "      <th>count</th>\n",
       "      <td>106.000000</td>\n",
       "      <td>250.000000</td>\n",
       "      <td>252.000000</td>\n",
       "      <td>252.000000</td>\n",
       "      <td>252.000000</td>\n",
       "      <td>252.000000</td>\n",
       "      <td>251.000000</td>\n",
       "      <td>251.000000</td>\n",
       "      <td>252.000000</td>\n",
       "      <td>253.000000</td>\n",
       "      <td>145.000000</td>\n",
       "    </tr>\n",
       "    <tr>\n",
       "      <th>mean</th>\n",
       "      <td>13.873784</td>\n",
       "      <td>20.555037</td>\n",
       "      <td>16.875728</td>\n",
       "      <td>23.036169</td>\n",
       "      <td>30.015079</td>\n",
       "      <td>26.140526</td>\n",
       "      <td>37.584572</td>\n",
       "      <td>47.274801</td>\n",
       "      <td>51.929157</td>\n",
       "      <td>95.112776</td>\n",
       "      <td>131.223724</td>\n",
       "    </tr>\n",
       "    <tr>\n",
       "      <th>std</th>\n",
       "      <td>0.506286</td>\n",
       "      <td>2.421053</td>\n",
       "      <td>1.596352</td>\n",
       "      <td>3.335929</td>\n",
       "      <td>1.912753</td>\n",
       "      <td>1.901968</td>\n",
       "      <td>3.684114</td>\n",
       "      <td>5.134167</td>\n",
       "      <td>8.565058</td>\n",
       "      <td>21.725294</td>\n",
       "      <td>7.623936</td>\n",
       "    </tr>\n",
       "    <tr>\n",
       "      <th>min</th>\n",
       "      <td>12.614643</td>\n",
       "      <td>14.464286</td>\n",
       "      <td>13.947500</td>\n",
       "      <td>17.849285</td>\n",
       "      <td>25.780001</td>\n",
       "      <td>22.584999</td>\n",
       "      <td>28.955000</td>\n",
       "      <td>36.707500</td>\n",
       "      <td>35.547501</td>\n",
       "      <td>56.092499</td>\n",
       "      <td>116.360001</td>\n",
       "    </tr>\n",
       "    <tr>\n",
       "      <th>25%</th>\n",
       "      <td>13.488304</td>\n",
       "      <td>19.244375</td>\n",
       "      <td>15.635803</td>\n",
       "      <td>19.421875</td>\n",
       "      <td>28.343125</td>\n",
       "      <td>24.284375</td>\n",
       "      <td>35.428751</td>\n",
       "      <td>43.285000</td>\n",
       "      <td>46.398750</td>\n",
       "      <td>77.377502</td>\n",
       "      <td>125.860001</td>\n",
       "    </tr>\n",
       "    <tr>\n",
       "      <th>50%</th>\n",
       "      <td>13.888215</td>\n",
       "      <td>20.803214</td>\n",
       "      <td>16.466964</td>\n",
       "      <td>23.445000</td>\n",
       "      <td>30.075000</td>\n",
       "      <td>26.423750</td>\n",
       "      <td>38.134998</td>\n",
       "      <td>46.512501</td>\n",
       "      <td>50.719999</td>\n",
       "      <td>91.209999</td>\n",
       "      <td>130.460007</td>\n",
       "    </tr>\n",
       "    <tr>\n",
       "      <th>75%</th>\n",
       "      <td>14.253572</td>\n",
       "      <td>22.050804</td>\n",
       "      <td>18.039285</td>\n",
       "      <td>25.257499</td>\n",
       "      <td>31.728126</td>\n",
       "      <td>27.724999</td>\n",
       "      <td>39.953751</td>\n",
       "      <td>51.940000</td>\n",
       "      <td>55.803749</td>\n",
       "      <td>115.707497</td>\n",
       "      <td>134.839996</td>\n",
       "    </tr>\n",
       "    <tr>\n",
       "      <th>max</th>\n",
       "      <td>15.080000</td>\n",
       "      <td>25.075001</td>\n",
       "      <td>20.360357</td>\n",
       "      <td>29.750000</td>\n",
       "      <td>33.250000</td>\n",
       "      <td>29.562500</td>\n",
       "      <td>44.105000</td>\n",
       "      <td>58.017502</td>\n",
       "      <td>72.879997</td>\n",
       "      <td>136.690002</td>\n",
       "      <td>149.149994</td>\n",
       "    </tr>\n",
       "    <tr>\n",
       "      <th rowspan=\"8\" valign=\"top\">min_2_close</th>\n",
       "      <th>count</th>\n",
       "      <td>105.000000</td>\n",
       "      <td>250.000000</td>\n",
       "      <td>252.000000</td>\n",
       "      <td>252.000000</td>\n",
       "      <td>252.000000</td>\n",
       "      <td>252.000000</td>\n",
       "      <td>251.000000</td>\n",
       "      <td>251.000000</td>\n",
       "      <td>252.000000</td>\n",
       "      <td>253.000000</td>\n",
       "      <td>145.000000</td>\n",
       "    </tr>\n",
       "    <tr>\n",
       "      <th>mean</th>\n",
       "      <td>13.868119</td>\n",
       "      <td>20.540113</td>\n",
       "      <td>16.869361</td>\n",
       "      <td>23.003131</td>\n",
       "      <td>30.020238</td>\n",
       "      <td>26.131190</td>\n",
       "      <td>37.530438</td>\n",
       "      <td>47.289592</td>\n",
       "      <td>51.794940</td>\n",
       "      <td>94.872302</td>\n",
       "      <td>131.141517</td>\n",
       "    </tr>\n",
       "    <tr>\n",
       "      <th>std</th>\n",
       "      <td>0.505328</td>\n",
       "      <td>2.446992</td>\n",
       "      <td>1.587801</td>\n",
       "      <td>3.326494</td>\n",
       "      <td>1.905869</td>\n",
       "      <td>1.892729</td>\n",
       "      <td>3.707368</td>\n",
       "      <td>5.115714</td>\n",
       "      <td>8.500203</td>\n",
       "      <td>21.632778</td>\n",
       "      <td>7.531109</td>\n",
       "    </tr>\n",
       "    <tr>\n",
       "      <th>min</th>\n",
       "      <td>12.614643</td>\n",
       "      <td>14.464286</td>\n",
       "      <td>13.947500</td>\n",
       "      <td>17.849285</td>\n",
       "      <td>25.780001</td>\n",
       "      <td>22.584999</td>\n",
       "      <td>28.955000</td>\n",
       "      <td>36.707500</td>\n",
       "      <td>35.547501</td>\n",
       "      <td>56.092499</td>\n",
       "      <td>116.360001</td>\n",
       "    </tr>\n",
       "    <tr>\n",
       "      <th>25%</th>\n",
       "      <td>13.481429</td>\n",
       "      <td>19.244375</td>\n",
       "      <td>15.635803</td>\n",
       "      <td>19.421875</td>\n",
       "      <td>28.343125</td>\n",
       "      <td>24.284375</td>\n",
       "      <td>35.386252</td>\n",
       "      <td>43.285000</td>\n",
       "      <td>46.211875</td>\n",
       "      <td>77.237503</td>\n",
       "      <td>125.860001</td>\n",
       "    </tr>\n",
       "    <tr>\n",
       "      <th>50%</th>\n",
       "      <td>13.886786</td>\n",
       "      <td>20.803214</td>\n",
       "      <td>16.466964</td>\n",
       "      <td>23.402499</td>\n",
       "      <td>30.075000</td>\n",
       "      <td>26.423750</td>\n",
       "      <td>38.022499</td>\n",
       "      <td>46.512501</td>\n",
       "      <td>50.701250</td>\n",
       "      <td>91.199997</td>\n",
       "      <td>130.460007</td>\n",
       "    </tr>\n",
       "    <tr>\n",
       "      <th>75%</th>\n",
       "      <td>14.236429</td>\n",
       "      <td>22.050804</td>\n",
       "      <td>18.039285</td>\n",
       "      <td>25.251250</td>\n",
       "      <td>31.728126</td>\n",
       "      <td>27.652499</td>\n",
       "      <td>39.942499</td>\n",
       "      <td>51.940000</td>\n",
       "      <td>55.712501</td>\n",
       "      <td>115.562500</td>\n",
       "      <td>134.779999</td>\n",
       "    </tr>\n",
       "    <tr>\n",
       "      <th>max</th>\n",
       "      <td>15.080000</td>\n",
       "      <td>25.075001</td>\n",
       "      <td>20.360357</td>\n",
       "      <td>29.750000</td>\n",
       "      <td>33.250000</td>\n",
       "      <td>29.562500</td>\n",
       "      <td>44.105000</td>\n",
       "      <td>58.017502</td>\n",
       "      <td>72.477501</td>\n",
       "      <td>136.690002</td>\n",
       "      <td>149.149994</td>\n",
       "    </tr>\n",
       "    <tr>\n",
       "      <th rowspan=\"8\" valign=\"top\">min_3_close</th>\n",
       "      <th>count</th>\n",
       "      <td>104.000000</td>\n",
       "      <td>250.000000</td>\n",
       "      <td>252.000000</td>\n",
       "      <td>252.000000</td>\n",
       "      <td>252.000000</td>\n",
       "      <td>252.000000</td>\n",
       "      <td>251.000000</td>\n",
       "      <td>251.000000</td>\n",
       "      <td>252.000000</td>\n",
       "      <td>253.000000</td>\n",
       "      <td>145.000000</td>\n",
       "    </tr>\n",
       "    <tr>\n",
       "      <th>mean</th>\n",
       "      <td>13.863197</td>\n",
       "      <td>20.524053</td>\n",
       "      <td>16.862979</td>\n",
       "      <td>22.969503</td>\n",
       "      <td>30.025367</td>\n",
       "      <td>26.123234</td>\n",
       "      <td>37.476813</td>\n",
       "      <td>47.303984</td>\n",
       "      <td>51.662351</td>\n",
       "      <td>94.625583</td>\n",
       "      <td>131.071793</td>\n",
       "    </tr>\n",
       "    <tr>\n",
       "      <th>std</th>\n",
       "      <td>0.505239</td>\n",
       "      <td>2.474152</td>\n",
       "      <td>1.578359</td>\n",
       "      <td>3.313742</td>\n",
       "      <td>1.899939</td>\n",
       "      <td>1.884013</td>\n",
       "      <td>3.730295</td>\n",
       "      <td>5.097454</td>\n",
       "      <td>8.437090</td>\n",
       "      <td>21.530503</td>\n",
       "      <td>7.448447</td>\n",
       "    </tr>\n",
       "    <tr>\n",
       "      <th>min</th>\n",
       "      <td>12.614643</td>\n",
       "      <td>14.380000</td>\n",
       "      <td>13.947500</td>\n",
       "      <td>17.849285</td>\n",
       "      <td>25.780001</td>\n",
       "      <td>22.584999</td>\n",
       "      <td>28.955000</td>\n",
       "      <td>36.707500</td>\n",
       "      <td>35.547501</td>\n",
       "      <td>56.092499</td>\n",
       "      <td>116.360001</td>\n",
       "    </tr>\n",
       "    <tr>\n",
       "      <th>25%</th>\n",
       "      <td>13.480804</td>\n",
       "      <td>19.244375</td>\n",
       "      <td>15.635803</td>\n",
       "      <td>19.421875</td>\n",
       "      <td>28.359374</td>\n",
       "      <td>24.284375</td>\n",
       "      <td>35.360001</td>\n",
       "      <td>43.285000</td>\n",
       "      <td>45.892499</td>\n",
       "      <td>77.165001</td>\n",
       "      <td>125.860001</td>\n",
       "    </tr>\n",
       "    <tr>\n",
       "      <th>50%</th>\n",
       "      <td>13.886428</td>\n",
       "      <td>20.803214</td>\n",
       "      <td>16.466964</td>\n",
       "      <td>23.375000</td>\n",
       "      <td>30.075000</td>\n",
       "      <td>26.423750</td>\n",
       "      <td>37.972500</td>\n",
       "      <td>46.512501</td>\n",
       "      <td>50.685000</td>\n",
       "      <td>91.027496</td>\n",
       "      <td>130.460007</td>\n",
       "    </tr>\n",
       "    <tr>\n",
       "      <th>75%</th>\n",
       "      <td>14.234554</td>\n",
       "      <td>22.050804</td>\n",
       "      <td>18.039285</td>\n",
       "      <td>25.242500</td>\n",
       "      <td>31.728126</td>\n",
       "      <td>27.615001</td>\n",
       "      <td>39.926248</td>\n",
       "      <td>51.940000</td>\n",
       "      <td>55.366250</td>\n",
       "      <td>115.540001</td>\n",
       "      <td>134.779999</td>\n",
       "    </tr>\n",
       "    <tr>\n",
       "      <th>max</th>\n",
       "      <td>15.080000</td>\n",
       "      <td>25.075001</td>\n",
       "      <td>20.360357</td>\n",
       "      <td>29.750000</td>\n",
       "      <td>33.250000</td>\n",
       "      <td>29.562500</td>\n",
       "      <td>44.105000</td>\n",
       "      <td>58.017502</td>\n",
       "      <td>72.477501</td>\n",
       "      <td>136.690002</td>\n",
       "      <td>149.149994</td>\n",
       "    </tr>\n",
       "    <tr>\n",
       "      <th rowspan=\"8\" valign=\"top\">min_4_close</th>\n",
       "      <th>count</th>\n",
       "      <td>103.000000</td>\n",
       "      <td>250.000000</td>\n",
       "      <td>252.000000</td>\n",
       "      <td>252.000000</td>\n",
       "      <td>252.000000</td>\n",
       "      <td>252.000000</td>\n",
       "      <td>251.000000</td>\n",
       "      <td>251.000000</td>\n",
       "      <td>252.000000</td>\n",
       "      <td>253.000000</td>\n",
       "      <td>145.000000</td>\n",
       "    </tr>\n",
       "    <tr>\n",
       "      <th>mean</th>\n",
       "      <td>13.856831</td>\n",
       "      <td>20.508843</td>\n",
       "      <td>16.855765</td>\n",
       "      <td>22.936335</td>\n",
       "      <td>30.032480</td>\n",
       "      <td>26.112877</td>\n",
       "      <td>37.423715</td>\n",
       "      <td>47.317331</td>\n",
       "      <td>51.530665</td>\n",
       "      <td>94.371778</td>\n",
       "      <td>131.002276</td>\n",
       "    </tr>\n",
       "    <tr>\n",
       "      <th>std</th>\n",
       "      <td>0.503501</td>\n",
       "      <td>2.499307</td>\n",
       "      <td>1.567442</td>\n",
       "      <td>3.299992</td>\n",
       "      <td>1.890792</td>\n",
       "      <td>1.873542</td>\n",
       "      <td>3.751266</td>\n",
       "      <td>5.080752</td>\n",
       "      <td>8.369619</td>\n",
       "      <td>21.410815</td>\n",
       "      <td>7.347268</td>\n",
       "    </tr>\n",
       "    <tr>\n",
       "      <th>min</th>\n",
       "      <td>12.614643</td>\n",
       "      <td>14.380000</td>\n",
       "      <td>13.947500</td>\n",
       "      <td>17.849285</td>\n",
       "      <td>25.780001</td>\n",
       "      <td>22.584999</td>\n",
       "      <td>28.955000</td>\n",
       "      <td>36.707500</td>\n",
       "      <td>35.547501</td>\n",
       "      <td>56.092499</td>\n",
       "      <td>116.360001</td>\n",
       "    </tr>\n",
       "    <tr>\n",
       "      <th>25%</th>\n",
       "      <td>13.480179</td>\n",
       "      <td>19.244375</td>\n",
       "      <td>15.635803</td>\n",
       "      <td>19.421875</td>\n",
       "      <td>28.369999</td>\n",
       "      <td>24.284375</td>\n",
       "      <td>35.327500</td>\n",
       "      <td>43.285000</td>\n",
       "      <td>45.753124</td>\n",
       "      <td>76.927498</td>\n",
       "      <td>125.860001</td>\n",
       "    </tr>\n",
       "    <tr>\n",
       "      <th>50%</th>\n",
       "      <td>13.886071</td>\n",
       "      <td>20.803214</td>\n",
       "      <td>16.466964</td>\n",
       "      <td>23.321250</td>\n",
       "      <td>30.075000</td>\n",
       "      <td>26.423750</td>\n",
       "      <td>37.755001</td>\n",
       "      <td>46.512501</td>\n",
       "      <td>50.671250</td>\n",
       "      <td>91.027496</td>\n",
       "      <td>130.460007</td>\n",
       "    </tr>\n",
       "    <tr>\n",
       "      <th>75%</th>\n",
       "      <td>14.220000</td>\n",
       "      <td>22.050804</td>\n",
       "      <td>18.039285</td>\n",
       "      <td>25.226875</td>\n",
       "      <td>31.728126</td>\n",
       "      <td>27.604376</td>\n",
       "      <td>39.864999</td>\n",
       "      <td>51.940000</td>\n",
       "      <td>55.244377</td>\n",
       "      <td>115.360001</td>\n",
       "      <td>134.779999</td>\n",
       "    </tr>\n",
       "    <tr>\n",
       "      <th>max</th>\n",
       "      <td>15.080000</td>\n",
       "      <td>25.075001</td>\n",
       "      <td>20.360357</td>\n",
       "      <td>29.750000</td>\n",
       "      <td>33.250000</td>\n",
       "      <td>29.562500</td>\n",
       "      <td>44.105000</td>\n",
       "      <td>58.017502</td>\n",
       "      <td>71.067497</td>\n",
       "      <td>134.179993</td>\n",
       "      <td>149.149994</td>\n",
       "    </tr>\n",
       "    <tr>\n",
       "      <th rowspan=\"8\" valign=\"top\">pct_close_change</th>\n",
       "      <th>count</th>\n",
       "      <td>106.000000</td>\n",
       "      <td>250.000000</td>\n",
       "      <td>252.000000</td>\n",
       "      <td>252.000000</td>\n",
       "      <td>252.000000</td>\n",
       "      <td>252.000000</td>\n",
       "      <td>251.000000</td>\n",
       "      <td>251.000000</td>\n",
       "      <td>252.000000</td>\n",
       "      <td>253.000000</td>\n",
       "      <td>145.000000</td>\n",
       "    </tr>\n",
       "    <tr>\n",
       "      <th>mean</th>\n",
       "      <td>100.038690</td>\n",
       "      <td>100.126401</td>\n",
       "      <td>100.037324</td>\n",
       "      <td>100.136393</td>\n",
       "      <td>99.995284</td>\n",
       "      <td>100.048759</td>\n",
       "      <td>100.157341</td>\n",
       "      <td>99.988343</td>\n",
       "      <td>100.260571</td>\n",
       "      <td>100.277301</td>\n",
       "      <td>100.079573</td>\n",
       "    </tr>\n",
       "    <tr>\n",
       "      <th>std</th>\n",
       "      <td>1.973577</td>\n",
       "      <td>1.860362</td>\n",
       "      <td>1.798577</td>\n",
       "      <td>1.365669</td>\n",
       "      <td>1.684082</td>\n",
       "      <td>1.472165</td>\n",
       "      <td>1.113454</td>\n",
       "      <td>1.810878</td>\n",
       "      <td>1.649231</td>\n",
       "      <td>2.939214</td>\n",
       "      <td>1.696650</td>\n",
       "    </tr>\n",
       "    <tr>\n",
       "      <th>min</th>\n",
       "      <td>94.406028</td>\n",
       "      <td>93.564298</td>\n",
       "      <td>87.644216</td>\n",
       "      <td>92.007279</td>\n",
       "      <td>93.883714</td>\n",
       "      <td>93.429347</td>\n",
       "      <td>96.122325</td>\n",
       "      <td>93.366932</td>\n",
       "      <td>90.039263</td>\n",
       "      <td>87.135305</td>\n",
       "      <td>95.832649</td>\n",
       "    </tr>\n",
       "    <tr>\n",
       "      <th>25%</th>\n",
       "      <td>99.016956</td>\n",
       "      <td>99.203093</td>\n",
       "      <td>99.128266</td>\n",
       "      <td>99.391768</td>\n",
       "      <td>99.122891</td>\n",
       "      <td>99.409592</td>\n",
       "      <td>99.615503</td>\n",
       "      <td>99.104184</td>\n",
       "      <td>99.520303</td>\n",
       "      <td>98.974103</td>\n",
       "      <td>99.080029</td>\n",
       "    </tr>\n",
       "    <tr>\n",
       "      <th>50%</th>\n",
       "      <td>99.997309</td>\n",
       "      <td>100.047265</td>\n",
       "      <td>99.972187</td>\n",
       "      <td>100.098023</td>\n",
       "      <td>99.914868</td>\n",
       "      <td>100.080562</td>\n",
       "      <td>100.066667</td>\n",
       "      <td>100.052443</td>\n",
       "      <td>100.275254</td>\n",
       "      <td>100.174926</td>\n",
       "      <td>100.123343</td>\n",
       "    </tr>\n",
       "    <tr>\n",
       "      <th>75%</th>\n",
       "      <td>101.082782</td>\n",
       "      <td>101.195745</td>\n",
       "      <td>101.090083</td>\n",
       "      <td>100.958526</td>\n",
       "      <td>100.939508</td>\n",
       "      <td>100.770224</td>\n",
       "      <td>100.636982</td>\n",
       "      <td>100.937970</td>\n",
       "      <td>101.141467</td>\n",
       "      <td>101.739584</td>\n",
       "      <td>101.269836</td>\n",
       "    </tr>\n",
       "    <tr>\n",
       "      <th>max</th>\n",
       "      <td>105.888847</td>\n",
       "      <td>108.874128</td>\n",
       "      <td>105.136158</td>\n",
       "      <td>108.198186</td>\n",
       "      <td>105.735501</td>\n",
       "      <td>106.496324</td>\n",
       "      <td>106.098063</td>\n",
       "      <td>107.042158</td>\n",
       "      <td>106.833468</td>\n",
       "      <td>111.980826</td>\n",
       "      <td>105.385122</td>\n",
       "    </tr>\n",
       "  </tbody>\n",
       "</table>\n",
       "</div>"
      ],
      "text/plain": [
       "Year                          2011        2012        2013        2014  \\\n",
       "Close            count  107.000000  250.000000  252.000000  252.000000   \n",
       "                 mean    13.879302   20.573204   16.879817   23.066164   \n",
       "                 std      0.507115    2.392032    1.603135    3.342823   \n",
       "                 min     12.614643   14.686786   13.947500   17.849285   \n",
       "                 25%     13.495179   19.244375   15.635803   19.421875   \n",
       "                 50%     13.889643   20.803214   16.466964   23.475001   \n",
       "                 75%     14.267678   22.050804   18.039285   25.281249   \n",
       "                 max     15.080000   25.075001   20.360357   29.750000   \n",
       "day_prev_close   count  106.000000  250.000000  252.000000  252.000000   \n",
       "                 mean    13.873784   20.555037   16.875728   23.036169   \n",
       "                 std      0.506286    2.421053    1.596352    3.335929   \n",
       "                 min     12.614643   14.464286   13.947500   17.849285   \n",
       "                 25%     13.488304   19.244375   15.635803   19.421875   \n",
       "                 50%     13.888215   20.803214   16.466964   23.445000   \n",
       "                 75%     14.253572   22.050804   18.039285   25.257499   \n",
       "                 max     15.080000   25.075001   20.360357   29.750000   \n",
       "min_2_close      count  105.000000  250.000000  252.000000  252.000000   \n",
       "                 mean    13.868119   20.540113   16.869361   23.003131   \n",
       "                 std      0.505328    2.446992    1.587801    3.326494   \n",
       "                 min     12.614643   14.464286   13.947500   17.849285   \n",
       "                 25%     13.481429   19.244375   15.635803   19.421875   \n",
       "                 50%     13.886786   20.803214   16.466964   23.402499   \n",
       "                 75%     14.236429   22.050804   18.039285   25.251250   \n",
       "                 max     15.080000   25.075001   20.360357   29.750000   \n",
       "min_3_close      count  104.000000  250.000000  252.000000  252.000000   \n",
       "                 mean    13.863197   20.524053   16.862979   22.969503   \n",
       "                 std      0.505239    2.474152    1.578359    3.313742   \n",
       "                 min     12.614643   14.380000   13.947500   17.849285   \n",
       "                 25%     13.480804   19.244375   15.635803   19.421875   \n",
       "                 50%     13.886428   20.803214   16.466964   23.375000   \n",
       "                 75%     14.234554   22.050804   18.039285   25.242500   \n",
       "                 max     15.080000   25.075001   20.360357   29.750000   \n",
       "min_4_close      count  103.000000  250.000000  252.000000  252.000000   \n",
       "                 mean    13.856831   20.508843   16.855765   22.936335   \n",
       "                 std      0.503501    2.499307    1.567442    3.299992   \n",
       "                 min     12.614643   14.380000   13.947500   17.849285   \n",
       "                 25%     13.480179   19.244375   15.635803   19.421875   \n",
       "                 50%     13.886071   20.803214   16.466964   23.321250   \n",
       "                 75%     14.220000   22.050804   18.039285   25.226875   \n",
       "                 max     15.080000   25.075001   20.360357   29.750000   \n",
       "pct_close_change count  106.000000  250.000000  252.000000  252.000000   \n",
       "                 mean   100.038690  100.126401  100.037324  100.136393   \n",
       "                 std      1.973577    1.860362    1.798577    1.365669   \n",
       "                 min     94.406028   93.564298   87.644216   92.007279   \n",
       "                 25%     99.016956   99.203093   99.128266   99.391768   \n",
       "                 50%     99.997309  100.047265   99.972187  100.098023   \n",
       "                 75%    101.082782  101.195745  101.090083  100.958526   \n",
       "                 max    105.888847  108.874128  105.136158  108.198186   \n",
       "\n",
       "Year                          2015        2016        2017        2018  \\\n",
       "Close            count  252.000000  252.000000  251.000000  251.000000   \n",
       "                 mean    30.010000   26.151002   37.637769   47.263357   \n",
       "                 std      1.920888    1.910186    3.655298    5.148465   \n",
       "                 min     25.780001   22.584999   29.004999   36.707500   \n",
       "                 25%     28.343125   24.284375   35.453750   43.285000   \n",
       "                 50%     30.075000   26.437500   38.185001   46.512501   \n",
       "                 75%     31.728126   27.744375   39.963751   51.940000   \n",
       "                 max     33.250000   29.562500   44.105000   58.017502   \n",
       "day_prev_close   count  252.000000  252.000000  251.000000  251.000000   \n",
       "                 mean    30.015079   26.140526   37.584572   47.274801   \n",
       "                 std      1.912753    1.901968    3.684114    5.134167   \n",
       "                 min     25.780001   22.584999   28.955000   36.707500   \n",
       "                 25%     28.343125   24.284375   35.428751   43.285000   \n",
       "                 50%     30.075000   26.423750   38.134998   46.512501   \n",
       "                 75%     31.728126   27.724999   39.953751   51.940000   \n",
       "                 max     33.250000   29.562500   44.105000   58.017502   \n",
       "min_2_close      count  252.000000  252.000000  251.000000  251.000000   \n",
       "                 mean    30.020238   26.131190   37.530438   47.289592   \n",
       "                 std      1.905869    1.892729    3.707368    5.115714   \n",
       "                 min     25.780001   22.584999   28.955000   36.707500   \n",
       "                 25%     28.343125   24.284375   35.386252   43.285000   \n",
       "                 50%     30.075000   26.423750   38.022499   46.512501   \n",
       "                 75%     31.728126   27.652499   39.942499   51.940000   \n",
       "                 max     33.250000   29.562500   44.105000   58.017502   \n",
       "min_3_close      count  252.000000  252.000000  251.000000  251.000000   \n",
       "                 mean    30.025367   26.123234   37.476813   47.303984   \n",
       "                 std      1.899939    1.884013    3.730295    5.097454   \n",
       "                 min     25.780001   22.584999   28.955000   36.707500   \n",
       "                 25%     28.359374   24.284375   35.360001   43.285000   \n",
       "                 50%     30.075000   26.423750   37.972500   46.512501   \n",
       "                 75%     31.728126   27.615001   39.926248   51.940000   \n",
       "                 max     33.250000   29.562500   44.105000   58.017502   \n",
       "min_4_close      count  252.000000  252.000000  251.000000  251.000000   \n",
       "                 mean    30.032480   26.112877   37.423715   47.317331   \n",
       "                 std      1.890792    1.873542    3.751266    5.080752   \n",
       "                 min     25.780001   22.584999   28.955000   36.707500   \n",
       "                 25%     28.369999   24.284375   35.327500   43.285000   \n",
       "                 50%     30.075000   26.423750   37.755001   46.512501   \n",
       "                 75%     31.728126   27.604376   39.864999   51.940000   \n",
       "                 max     33.250000   29.562500   44.105000   58.017502   \n",
       "pct_close_change count  252.000000  252.000000  251.000000  251.000000   \n",
       "                 mean    99.995284  100.048759  100.157341   99.988343   \n",
       "                 std      1.684082    1.472165    1.113454    1.810878   \n",
       "                 min     93.883714   93.429347   96.122325   93.366932   \n",
       "                 25%     99.122891   99.409592   99.615503   99.104184   \n",
       "                 50%     99.914868  100.080562  100.066667  100.052443   \n",
       "                 75%    100.939508  100.770224  100.636982  100.937970   \n",
       "                 max    105.735501  106.496324  106.098063  107.042158   \n",
       "\n",
       "Year                          2019        2020        2021  \n",
       "Close            count  252.000000  253.000000  145.000000  \n",
       "                 mean    52.063988   95.347075  131.314552  \n",
       "                 std      8.634744   21.809814    7.719378  \n",
       "                 min     35.547501   56.092499  116.360001  \n",
       "                 25%     46.504999   77.385002  125.860001  \n",
       "                 50%     50.753749   91.632500  130.460007  \n",
       "                 75%     55.921249  115.750000  134.990005  \n",
       "                 max     73.412498  136.690002  149.149994  \n",
       "day_prev_close   count  252.000000  253.000000  145.000000  \n",
       "                 mean    51.929157   95.112776  131.223724  \n",
       "                 std      8.565058   21.725294    7.623936  \n",
       "                 min     35.547501   56.092499  116.360001  \n",
       "                 25%     46.398750   77.377502  125.860001  \n",
       "                 50%     50.719999   91.209999  130.460007  \n",
       "                 75%     55.803749  115.707497  134.839996  \n",
       "                 max     72.879997  136.690002  149.149994  \n",
       "min_2_close      count  252.000000  253.000000  145.000000  \n",
       "                 mean    51.794940   94.872302  131.141517  \n",
       "                 std      8.500203   21.632778    7.531109  \n",
       "                 min     35.547501   56.092499  116.360001  \n",
       "                 25%     46.211875   77.237503  125.860001  \n",
       "                 50%     50.701250   91.199997  130.460007  \n",
       "                 75%     55.712501  115.562500  134.779999  \n",
       "                 max     72.477501  136.690002  149.149994  \n",
       "min_3_close      count  252.000000  253.000000  145.000000  \n",
       "                 mean    51.662351   94.625583  131.071793  \n",
       "                 std      8.437090   21.530503    7.448447  \n",
       "                 min     35.547501   56.092499  116.360001  \n",
       "                 25%     45.892499   77.165001  125.860001  \n",
       "                 50%     50.685000   91.027496  130.460007  \n",
       "                 75%     55.366250  115.540001  134.779999  \n",
       "                 max     72.477501  136.690002  149.149994  \n",
       "min_4_close      count  252.000000  253.000000  145.000000  \n",
       "                 mean    51.530665   94.371778  131.002276  \n",
       "                 std      8.369619   21.410815    7.347268  \n",
       "                 min     35.547501   56.092499  116.360001  \n",
       "                 25%     45.753124   76.927498  125.860001  \n",
       "                 50%     50.671250   91.027496  130.460007  \n",
       "                 75%     55.244377  115.360001  134.779999  \n",
       "                 max     71.067497  134.179993  149.149994  \n",
       "pct_close_change count  252.000000  253.000000  145.000000  \n",
       "                 mean   100.260571  100.277301  100.079573  \n",
       "                 std      1.649231    2.939214    1.696650  \n",
       "                 min     90.039263   87.135305   95.832649  \n",
       "                 25%     99.520303   98.974103   99.080029  \n",
       "                 50%    100.275254  100.174926  100.123343  \n",
       "                 75%    101.141467  101.739584  101.269836  \n",
       "                 max    106.833468  111.980826  105.385122  "
      ]
     },
     "execution_count": 40,
     "metadata": {},
     "output_type": "execute_result"
    }
   ],
   "source": [
    "df_aapl.groupby('Year').describe().T"
   ]
  },
  {
   "cell_type": "code",
   "execution_count": 41,
   "metadata": {},
   "outputs": [
    {
     "ename": "NameError",
     "evalue": "name 'df' is not defined",
     "output_type": "error",
     "traceback": [
      "\u001b[1;31m---------------------------------------------------------------------------\u001b[0m",
      "\u001b[1;31mNameError\u001b[0m                                 Traceback (most recent call last)",
      "\u001b[1;32m<ipython-input-41-d9331de97956>\u001b[0m in \u001b[0;36m<module>\u001b[1;34m\u001b[0m\n\u001b[1;32m----> 1\u001b[1;33m \u001b[0mdf\u001b[0m\u001b[1;33m.\u001b[0m\u001b[0mgroupby\u001b[0m\u001b[1;33m(\u001b[0m\u001b[1;34m'Year'\u001b[0m\u001b[1;33m)\u001b[0m\u001b[1;33m.\u001b[0m\u001b[0mdescribe\u001b[0m\u001b[1;33m(\u001b[0m\u001b[1;33m)\u001b[0m\u001b[1;33m.\u001b[0m\u001b[0mT\u001b[0m\u001b[1;33m.\u001b[0m\u001b[0mto_csv\u001b[0m\u001b[1;33m(\u001b[0m\u001b[1;34m'Annual_summary_statistics_AAPL.csv'\u001b[0m\u001b[1;33m)\u001b[0m\u001b[1;33m\u001b[0m\u001b[1;33m\u001b[0m\u001b[0m\n\u001b[0m",
      "\u001b[1;31mNameError\u001b[0m: name 'df' is not defined"
     ]
    }
   ],
   "source": [
    "df.groupby('Year').describe().T.to_csv('Annual_summary_statistics_AAPL.csv')"
   ]
  },
  {
   "cell_type": "code",
   "execution_count": null,
   "metadata": {
    "scrolled": true
   },
   "outputs": [],
   "source": [
    "final.loc[(slice(None), slice('AAPL')),:].unstack().head()"
   ]
  },
  {
   "cell_type": "code",
   "execution_count": null,
   "metadata": {},
   "outputs": [],
   "source": [
    "data = final.loc[(slice(None), slice('AAPL')),'Close'].unstack()\n",
    "pd.plotting.lag_plot(data)"
   ]
  },
  {
   "cell_type": "code",
   "execution_count": 42,
   "metadata": {},
   "outputs": [
    {
     "data": {
      "text/html": [
       "<div>\n",
       "<style scoped>\n",
       "    .dataframe tbody tr th:only-of-type {\n",
       "        vertical-align: middle;\n",
       "    }\n",
       "\n",
       "    .dataframe tbody tr th {\n",
       "        vertical-align: top;\n",
       "    }\n",
       "\n",
       "    .dataframe thead th {\n",
       "        text-align: right;\n",
       "    }\n",
       "</style>\n",
       "<table border=\"1\" class=\"dataframe\">\n",
       "  <thead>\n",
       "    <tr style=\"text-align: right;\">\n",
       "      <th></th>\n",
       "      <th>Date</th>\n",
       "      <th>Symbol</th>\n",
       "      <th>Close</th>\n",
       "    </tr>\n",
       "  </thead>\n",
       "  <tbody>\n",
       "    <tr>\n",
       "      <th>0</th>\n",
       "      <td>2011-08-01</td>\n",
       "      <td>AAPL</td>\n",
       "      <td>14.169643</td>\n",
       "    </tr>\n",
       "    <tr>\n",
       "      <th>1</th>\n",
       "      <td>2011-08-01</td>\n",
       "      <td>AMZN</td>\n",
       "      <td>221.320007</td>\n",
       "    </tr>\n",
       "    <tr>\n",
       "      <th>2</th>\n",
       "      <td>2011-08-02</td>\n",
       "      <td>AAPL</td>\n",
       "      <td>13.889643</td>\n",
       "    </tr>\n",
       "    <tr>\n",
       "      <th>3</th>\n",
       "      <td>2011-08-02</td>\n",
       "      <td>AMZN</td>\n",
       "      <td>211.699997</td>\n",
       "    </tr>\n",
       "    <tr>\n",
       "      <th>4</th>\n",
       "      <td>2011-08-03</td>\n",
       "      <td>AAPL</td>\n",
       "      <td>14.020357</td>\n",
       "    </tr>\n",
       "  </tbody>\n",
       "</table>\n",
       "</div>"
      ],
      "text/plain": [
       "        Date Symbol       Close\n",
       "0 2011-08-01   AAPL   14.169643\n",
       "1 2011-08-01   AMZN  221.320007\n",
       "2 2011-08-02   AAPL   13.889643\n",
       "3 2011-08-02   AMZN  211.699997\n",
       "4 2011-08-03   AAPL   14.020357"
      ]
     },
     "execution_count": 42,
     "metadata": {},
     "output_type": "execute_result"
    }
   ],
   "source": [
    "less_grouped = grouped_df.reset_index()\n",
    "less_grouped.head()"
   ]
  },
  {
   "cell_type": "code",
   "execution_count": 43,
   "metadata": {
    "scrolled": true
   },
   "outputs": [
    {
     "data": {
      "text/plain": [
       "0        14.169643\n",
       "2        13.889643\n",
       "4        14.020357\n",
       "6        13.477500\n",
       "8        13.343571\n",
       "           ...    \n",
       "5024    148.990005\n",
       "5026    146.770004\n",
       "5028    144.979996\n",
       "5030    145.639999\n",
       "5032    145.860001\n",
       "Name: Close, Length: 2517, dtype: float64"
      ]
     },
     "execution_count": 43,
     "metadata": {},
     "output_type": "execute_result"
    }
   ],
   "source": [
    "less_grouped.loc[less_grouped.Symbol == 'AAPL', 'Close']"
   ]
  },
  {
   "cell_type": "code",
   "execution_count": 44,
   "metadata": {
    "scrolled": false
   },
   "outputs": [
    {
     "data": {
      "text/plain": [
       "<AxesSubplot:xlabel='y(t)', ylabel='y(t + 1)'>"
      ]
     },
     "execution_count": 44,
     "metadata": {},
     "output_type": "execute_result"
    },
    {
     "data": {
      "image/png": "[encoded data removed]",
      "text/plain": [
       "<Figure size 864x576 with 1 Axes>"
      ]
     },
     "metadata": {
      "needs_background": "light"
     },
     "output_type": "display_data"
    }
   ],
   "source": [
    "# loop through the symbols:\n",
    "symbols = ['AAPL', 'AMZN']\n",
    "pd.plotting.lag_plot(less_grouped.loc[less_grouped.Symbol == 'AAPL', 'Close'])"
   ]
  },
  {
   "cell_type": "code",
   "execution_count": 45,
   "metadata": {},
   "outputs": [
    {
     "data": {
      "text/plain": [
       "<AxesSubplot:xlabel='y(t)', ylabel='y(t + 1)'>"
      ]
     },
     "execution_count": 45,
     "metadata": {},
     "output_type": "execute_result"
    },
    {
     "data": {
      "image/png": "[encoded data removed]",
      "text/plain": [
       "<Figure size 864x576 with 1 Axes>"
      ]
     },
     "metadata": {
      "needs_background": "light"
     },
     "output_type": "display_data"
    }
   ],
   "source": [
    "pd.plotting.lag_plot(less_grouped.loc[less_grouped.Symbol == 'AMZN', 'Close'])"
   ]
  },
  {
   "cell_type": "markdown",
   "metadata": {},
   "source": [
    "## Return to AAPL Only Series - Create TREND data\n",
    " - We already have the closing prices and we have LAG functions for 2 days before, 3 days before, and 4 days before\n",
    " - We'll assign a trend for each of 3 days, where the trend is {1, -1}\n",
    " - The 3-day trend will sum the 3 days of trend and if it's positive, return 1, else -1"
   ]
  },
  {
   "cell_type": "markdown",
   "metadata": {},
   "source": [
    "Create a few functions that we can apply at the row-level of the dataframe to create trends each year"
   ]
  },
  {
   "cell_type": "code",
   "execution_count": 46,
   "metadata": {},
   "outputs": [],
   "source": [
    "# Create a function that outputs trend (-1 or 1)\n",
    "def trend_set_1(row):\n",
    "    if row['day_prev_close'] - row['min_2_close'] > 0:\n",
    "        return 1\n",
    "    else:\n",
    "        return -1\n",
    "    \n",
    "def trend_set_2(row):\n",
    "    if row['min_2_close'] - row['min_3_close'] > 0:\n",
    "        return 1\n",
    "    else:\n",
    "        return -1\n",
    "    \n",
    "def trend_set_3(row):\n",
    "    if row['min_3_close'] - row['min_4_close'] > 0:\n",
    "        return 1\n",
    "    else:\n",
    "        return -1    \n",
    "\n",
    "def trend_3_day(row):\n",
    "    if (row.min_1_trend + row.min_2_trend + row.min_3_trend) > 0:\n",
    "        return 1\n",
    "    else:\n",
    "        return -1"
   ]
  },
  {
   "cell_type": "code",
   "execution_count": 47,
   "metadata": {},
   "outputs": [],
   "source": [
    "df_aapl['min_1_trend'] = df_aapl.apply(trend_set_1, axis = 1)\n",
    "df_aapl['min_2_trend'] = df_aapl.apply(trend_set_2, axis = 1)\n",
    "df_aapl['min_3_trend'] = df_aapl.apply(trend_set_3, axis = 1)"
   ]
  },
  {
   "cell_type": "code",
   "execution_count": 48,
   "metadata": {},
   "outputs": [
    {
     "data": {
      "text/html": [
       "<div>\n",
       "<style scoped>\n",
       "    .dataframe tbody tr th:only-of-type {\n",
       "        vertical-align: middle;\n",
       "    }\n",
       "\n",
       "    .dataframe tbody tr th {\n",
       "        vertical-align: top;\n",
       "    }\n",
       "\n",
       "    .dataframe thead th {\n",
       "        text-align: right;\n",
       "    }\n",
       "</style>\n",
       "<table border=\"1\" class=\"dataframe\">\n",
       "  <thead>\n",
       "    <tr style=\"text-align: right;\">\n",
       "      <th></th>\n",
       "      <th>Date</th>\n",
       "      <th>Close</th>\n",
       "      <th>Year</th>\n",
       "      <th>day_prev_close</th>\n",
       "      <th>min_2_close</th>\n",
       "      <th>min_3_close</th>\n",
       "      <th>min_4_close</th>\n",
       "      <th>pct_close_change</th>\n",
       "      <th>Symbol</th>\n",
       "      <th>min_1_trend</th>\n",
       "      <th>min_2_trend</th>\n",
       "      <th>min_3_trend</th>\n",
       "      <th>trend_3_day</th>\n",
       "    </tr>\n",
       "  </thead>\n",
       "  <tbody>\n",
       "    <tr>\n",
       "      <th>0</th>\n",
       "      <td>2011-08-01</td>\n",
       "      <td>14.169643</td>\n",
       "      <td>2011</td>\n",
       "      <td>NaN</td>\n",
       "      <td>NaN</td>\n",
       "      <td>NaN</td>\n",
       "      <td>NaN</td>\n",
       "      <td>NaN</td>\n",
       "      <td>AAPL</td>\n",
       "      <td>-1</td>\n",
       "      <td>-1</td>\n",
       "      <td>-1</td>\n",
       "      <td>-1</td>\n",
       "    </tr>\n",
       "    <tr>\n",
       "      <th>1</th>\n",
       "      <td>2011-08-02</td>\n",
       "      <td>13.889643</td>\n",
       "      <td>2011</td>\n",
       "      <td>14.169643</td>\n",
       "      <td>NaN</td>\n",
       "      <td>NaN</td>\n",
       "      <td>NaN</td>\n",
       "      <td>98.023945</td>\n",
       "      <td>AAPL</td>\n",
       "      <td>-1</td>\n",
       "      <td>-1</td>\n",
       "      <td>-1</td>\n",
       "      <td>-1</td>\n",
       "    </tr>\n",
       "    <tr>\n",
       "      <th>2</th>\n",
       "      <td>2011-08-03</td>\n",
       "      <td>14.020357</td>\n",
       "      <td>2011</td>\n",
       "      <td>13.889643</td>\n",
       "      <td>14.169643</td>\n",
       "      <td>NaN</td>\n",
       "      <td>NaN</td>\n",
       "      <td>100.941090</td>\n",
       "      <td>AAPL</td>\n",
       "      <td>-1</td>\n",
       "      <td>-1</td>\n",
       "      <td>-1</td>\n",
       "      <td>-1</td>\n",
       "    </tr>\n",
       "    <tr>\n",
       "      <th>3</th>\n",
       "      <td>2011-08-04</td>\n",
       "      <td>13.477500</td>\n",
       "      <td>2011</td>\n",
       "      <td>14.020357</td>\n",
       "      <td>13.889643</td>\n",
       "      <td>14.169643</td>\n",
       "      <td>NaN</td>\n",
       "      <td>96.128080</td>\n",
       "      <td>AAPL</td>\n",
       "      <td>1</td>\n",
       "      <td>-1</td>\n",
       "      <td>-1</td>\n",
       "      <td>-1</td>\n",
       "    </tr>\n",
       "    <tr>\n",
       "      <th>4</th>\n",
       "      <td>2011-08-05</td>\n",
       "      <td>13.343571</td>\n",
       "      <td>2011</td>\n",
       "      <td>13.477500</td>\n",
       "      <td>14.020357</td>\n",
       "      <td>13.889643</td>\n",
       "      <td>14.169643</td>\n",
       "      <td>99.006277</td>\n",
       "      <td>AAPL</td>\n",
       "      <td>-1</td>\n",
       "      <td>1</td>\n",
       "      <td>-1</td>\n",
       "      <td>-1</td>\n",
       "    </tr>\n",
       "  </tbody>\n",
       "</table>\n",
       "</div>"
      ],
      "text/plain": [
       "        Date      Close  Year  day_prev_close  min_2_close  min_3_close  \\\n",
       "0 2011-08-01  14.169643  2011             NaN          NaN          NaN   \n",
       "1 2011-08-02  13.889643  2011       14.169643          NaN          NaN   \n",
       "2 2011-08-03  14.020357  2011       13.889643    14.169643          NaN   \n",
       "3 2011-08-04  13.477500  2011       14.020357    13.889643    14.169643   \n",
       "4 2011-08-05  13.343571  2011       13.477500    14.020357    13.889643   \n",
       "\n",
       "   min_4_close  pct_close_change Symbol  min_1_trend  min_2_trend  \\\n",
       "0          NaN               NaN   AAPL           -1           -1   \n",
       "1          NaN         98.023945   AAPL           -1           -1   \n",
       "2          NaN        100.941090   AAPL           -1           -1   \n",
       "3          NaN         96.128080   AAPL            1           -1   \n",
       "4    14.169643         99.006277   AAPL           -1            1   \n",
       "\n",
       "   min_3_trend  trend_3_day  \n",
       "0           -1           -1  \n",
       "1           -1           -1  \n",
       "2           -1           -1  \n",
       "3           -1           -1  \n",
       "4           -1           -1  "
      ]
     },
     "execution_count": 48,
     "metadata": {},
     "output_type": "execute_result"
    }
   ],
   "source": [
    "df_aapl['trend_3_day'] = df_aapl.apply(trend_3_day, axis = 1)\n",
    "df_aapl.head()"
   ]
  },
  {
   "cell_type": "markdown",
   "metadata": {},
   "source": [
    "# Visualize Time-Series Data\n",
    "- We can use pandas.plot on our df.\n",
    "- We'll tell it that `x = 'Date'` and `y = 'Close`\n",
    "- You'll se a legend that tells you the y-value"
   ]
  },
  {
   "cell_type": "markdown",
   "metadata": {},
   "source": [
    "The simplest plot you can make is to show the closing stock price as a time series. Pandas DataFrames have built in plotting funtionality based on Matplotlib."
   ]
  },
  {
   "cell_type": "code",
   "execution_count": 49,
   "metadata": {},
   "outputs": [
    {
     "ename": "NameError",
     "evalue": "name 'df' is not defined",
     "output_type": "error",
     "traceback": [
      "\u001b[1;31m---------------------------------------------------------------------------\u001b[0m",
      "\u001b[1;31mNameError\u001b[0m                                 Traceback (most recent call last)",
      "\u001b[1;32m<ipython-input-49-d92bfc58bbdb>\u001b[0m in \u001b[0;36m<module>\u001b[1;34m\u001b[0m\n\u001b[1;32m----> 1\u001b[1;33m \u001b[0mdf\u001b[0m\u001b[1;33m.\u001b[0m\u001b[0mplot\u001b[0m\u001b[1;33m(\u001b[0m\u001b[0mx\u001b[0m\u001b[1;33m=\u001b[0m\u001b[1;34m'Date'\u001b[0m\u001b[1;33m,\u001b[0m \u001b[0my\u001b[0m\u001b[1;33m=\u001b[0m\u001b[1;34m'Close'\u001b[0m\u001b[1;33m)\u001b[0m\u001b[1;33m;\u001b[0m\u001b[1;33m\u001b[0m\u001b[1;33m\u001b[0m\u001b[0m\n\u001b[0m",
      "\u001b[1;31mNameError\u001b[0m: name 'df' is not defined"
     ]
    }
   ],
   "source": [
    "df.plot(x='Date', y='Close');"
   ]
  },
  {
   "cell_type": "markdown",
   "metadata": {},
   "source": [
    "## Visualize the Trend on the Line\n"
   ]
  },
  {
   "cell_type": "markdown",
   "metadata": {},
   "source": [
    "You can also embed the `trend_3_day` variable into the time series above. \n",
    "- The original plot has 10 years, so we are going to subset the data to just one month\n",
    "- Use `start_date = '2018-06-01'` and `end_date = '2018-07-31'`\n",
    "- Our x = 'Date' and y = 'Close'\n",
    "- pandas.plot() allows you to use 'k--' for creating dotted lines\n",
    "- On top of the line plot, we will create two scatter plots in matplotlib with the same x and y, one for positive trend in blue, and one for negative trend in red:\n",
    "    - Scatter: 1\n",
    "    - `color = 'b'`\n",
    "    - `label = 'pos_trend'`\n",
    "    - `data = (df.loc[df.trend_3_day == 1 & pd.to_datetime(df.Date).between(start_date, end_date)])`\n",
    "    - Scatter: 2\n",
    "    - `color = 'r'`\n",
    "    - `label = 'neg_trend'`\n",
    "    - `data = (df.loc[df.trend_3_day == -1 & pd.to_datetime(df.Date).between(start_date, end_date)])`\n",
    "- plot the legend!"
   ]
  },
  {
   "cell_type": "code",
   "execution_count": 50,
   "metadata": {},
   "outputs": [
    {
     "data": {
      "image/png": "[encoded data removed]",
      "text/plain": [
       "<Figure size 864x576 with 1 Axes>"
      ]
     },
     "metadata": {
      "needs_background": "light"
     },
     "output_type": "display_data"
    }
   ],
   "source": [
    "start_date = '2020-06-01'\n",
    "end_date = '2021-07-31'\n",
    "\n",
    "plt.plot(\n",
    "    'Date', 'Close', 'k--',\n",
    "    data = (\n",
    "        df_aapl.loc[pd.to_datetime(df_aapl.Date).between(start_date, end_date)]\n",
    "    )\n",
    ")\n",
    "\n",
    "plt.scatter(\n",
    "    'Date', 'Close', color='b', label='pos trend', \n",
    "    data = (\n",
    "        df_aapl.loc[(df_aapl.trend_3_day == 1) & pd.to_datetime(df_aapl.Date).between(start_date, end_date)]\n",
    "    )\n",
    ")\n",
    "\n",
    "plt.scatter(\n",
    "    'Date', 'Close', color='r', label='neg trend',\n",
    "    data = (\n",
    "        df_aapl.loc[(df_aapl.trend_3_day == -1) & pd.to_datetime(df_aapl.Date).between(start_date, end_date)]\n",
    "    )\n",
    ")\n",
    "plt.title('AAPL Trends for 2020 short time frame')\n",
    "plt.legend();"
   ]
  },
  {
   "cell_type": "code",
   "execution_count": 51,
   "metadata": {},
   "outputs": [
    {
     "data": {
      "text/plain": [
       "(2517, 13)"
      ]
     },
     "execution_count": 51,
     "metadata": {},
     "output_type": "execute_result"
    }
   ],
   "source": [
    "df_aapl.shape"
   ]
  },
  {
   "cell_type": "markdown",
   "metadata": {},
   "source": [
    "## Build a Regression Model in Scikit-Learn"
   ]
  },
  {
   "cell_type": "markdown",
   "metadata": {},
   "source": [
    "In this section you'll train a linear regression model to predict AAPL closing prices when given the previous day's closing price `day_prev_close` and the three day trend `trend_3_day`. A training set and test set are created by sequentially splitting the data after 2000 rows. "
   ]
  },
  {
   "cell_type": "code",
   "execution_count": 61,
   "metadata": {},
   "outputs": [
    {
     "data": {
      "text/html": [
       "<div>\n",
       "<style scoped>\n",
       "    .dataframe tbody tr th:only-of-type {\n",
       "        vertical-align: middle;\n",
       "    }\n",
       "\n",
       "    .dataframe tbody tr th {\n",
       "        vertical-align: top;\n",
       "    }\n",
       "\n",
       "    .dataframe thead th {\n",
       "        text-align: right;\n",
       "    }\n",
       "</style>\n",
       "<table border=\"1\" class=\"dataframe\">\n",
       "  <thead>\n",
       "    <tr style=\"text-align: right;\">\n",
       "      <th></th>\n",
       "      <th>Date</th>\n",
       "      <th>Close</th>\n",
       "      <th>Year</th>\n",
       "      <th>day_prev_close</th>\n",
       "      <th>min_2_close</th>\n",
       "      <th>min_3_close</th>\n",
       "      <th>min_4_close</th>\n",
       "      <th>pct_close_change</th>\n",
       "      <th>Symbol</th>\n",
       "      <th>min_1_trend</th>\n",
       "      <th>min_2_trend</th>\n",
       "      <th>min_3_trend</th>\n",
       "      <th>trend_3_day</th>\n",
       "    </tr>\n",
       "  </thead>\n",
       "  <tbody>\n",
       "    <tr>\n",
       "      <th>0</th>\n",
       "      <td>2011-08-01</td>\n",
       "      <td>14.169643</td>\n",
       "      <td>2011</td>\n",
       "      <td>NaN</td>\n",
       "      <td>NaN</td>\n",
       "      <td>NaN</td>\n",
       "      <td>NaN</td>\n",
       "      <td>NaN</td>\n",
       "      <td>AAPL</td>\n",
       "      <td>-1</td>\n",
       "      <td>-1</td>\n",
       "      <td>-1</td>\n",
       "      <td>-1</td>\n",
       "    </tr>\n",
       "    <tr>\n",
       "      <th>1</th>\n",
       "      <td>2011-08-02</td>\n",
       "      <td>13.889643</td>\n",
       "      <td>2011</td>\n",
       "      <td>14.169643</td>\n",
       "      <td>NaN</td>\n",
       "      <td>NaN</td>\n",
       "      <td>NaN</td>\n",
       "      <td>98.023945</td>\n",
       "      <td>AAPL</td>\n",
       "      <td>-1</td>\n",
       "      <td>-1</td>\n",
       "      <td>-1</td>\n",
       "      <td>-1</td>\n",
       "    </tr>\n",
       "    <tr>\n",
       "      <th>2</th>\n",
       "      <td>2011-08-03</td>\n",
       "      <td>14.020357</td>\n",
       "      <td>2011</td>\n",
       "      <td>13.889643</td>\n",
       "      <td>14.169643</td>\n",
       "      <td>NaN</td>\n",
       "      <td>NaN</td>\n",
       "      <td>100.941090</td>\n",
       "      <td>AAPL</td>\n",
       "      <td>-1</td>\n",
       "      <td>-1</td>\n",
       "      <td>-1</td>\n",
       "      <td>-1</td>\n",
       "    </tr>\n",
       "    <tr>\n",
       "      <th>3</th>\n",
       "      <td>2011-08-04</td>\n",
       "      <td>13.477500</td>\n",
       "      <td>2011</td>\n",
       "      <td>14.020357</td>\n",
       "      <td>13.889643</td>\n",
       "      <td>14.169643</td>\n",
       "      <td>NaN</td>\n",
       "      <td>96.128080</td>\n",
       "      <td>AAPL</td>\n",
       "      <td>1</td>\n",
       "      <td>-1</td>\n",
       "      <td>-1</td>\n",
       "      <td>-1</td>\n",
       "    </tr>\n",
       "    <tr>\n",
       "      <th>4</th>\n",
       "      <td>2011-08-05</td>\n",
       "      <td>13.343571</td>\n",
       "      <td>2011</td>\n",
       "      <td>13.477500</td>\n",
       "      <td>14.020357</td>\n",
       "      <td>13.889643</td>\n",
       "      <td>14.169643</td>\n",
       "      <td>99.006277</td>\n",
       "      <td>AAPL</td>\n",
       "      <td>-1</td>\n",
       "      <td>1</td>\n",
       "      <td>-1</td>\n",
       "      <td>-1</td>\n",
       "    </tr>\n",
       "  </tbody>\n",
       "</table>\n",
       "</div>"
      ],
      "text/plain": [
       "        Date      Close  Year  day_prev_close  min_2_close  min_3_close  \\\n",
       "0 2011-08-01  14.169643  2011             NaN          NaN          NaN   \n",
       "1 2011-08-02  13.889643  2011       14.169643          NaN          NaN   \n",
       "2 2011-08-03  14.020357  2011       13.889643    14.169643          NaN   \n",
       "3 2011-08-04  13.477500  2011       14.020357    13.889643    14.169643   \n",
       "4 2011-08-05  13.343571  2011       13.477500    14.020357    13.889643   \n",
       "\n",
       "   min_4_close  pct_close_change Symbol  min_1_trend  min_2_trend  \\\n",
       "0          NaN               NaN   AAPL           -1           -1   \n",
       "1          NaN         98.023945   AAPL           -1           -1   \n",
       "2          NaN        100.941090   AAPL           -1           -1   \n",
       "3          NaN         96.128080   AAPL            1           -1   \n",
       "4    14.169643         99.006277   AAPL           -1            1   \n",
       "\n",
       "   min_3_trend  trend_3_day  \n",
       "0           -1           -1  \n",
       "1           -1           -1  \n",
       "2           -1           -1  \n",
       "3           -1           -1  \n",
       "4           -1           -1  "
      ]
     },
     "execution_count": 61,
     "metadata": {},
     "output_type": "execute_result"
    }
   ],
   "source": [
    "df_aapl.head()"
   ]
  },
  {
   "cell_type": "markdown",
   "metadata": {},
   "source": [
    "## Manually Split Data into Test and Train Data\n",
    "- The first 2000 rows will be our \"train\"\n",
    "- That last 769 rows will be our hold-out / \"test\""
   ]
  },
  {
   "cell_type": "code",
   "execution_count": 63,
   "metadata": {},
   "outputs": [],
   "source": [
    "features = ['day_prev_close', 'trend_3_day']\n",
    "target = 'Close'\n",
    "\n",
    "X_train, X_test = df_aapl.loc[1:2000, features], df_aapl.loc[2000:, features]\n",
    "y_train, y_test = df_aapl.loc[1:2000, target], df_aapl.loc[2000:, target]"
   ]
  },
  {
   "cell_type": "markdown",
   "metadata": {},
   "source": [
    "## Instantiate a LinearRegression() object and call it `lr`"
   ]
  },
  {
   "cell_type": "code",
   "execution_count": 64,
   "metadata": {},
   "outputs": [],
   "source": [
    "# Create linear regression object. Don't include an intercept,\n",
    "# TODO\n",
    "lr = linear_model.LinearRegression()"
   ]
  },
  {
   "cell_type": "markdown",
   "metadata": {},
   "source": [
    "## Fit the Model \n",
    "- ### (Let the Optimization Algo Learn the Relationship between X and y)"
   ]
  },
  {
   "cell_type": "code",
   "execution_count": 65,
   "metadata": {},
   "outputs": [
    {
     "data": {
      "text/plain": [
       "LinearRegression()"
      ]
     },
     "execution_count": 65,
     "metadata": {},
     "output_type": "execute_result"
    }
   ],
   "source": [
    "# Train the model using the training set\n",
    "lr.fit(X_train, y_train)"
   ]
  },
  {
   "cell_type": "markdown",
   "metadata": {},
   "source": [
    "## Model Predictions"
   ]
  },
  {
   "cell_type": "code",
   "execution_count": 66,
   "metadata": {},
   "outputs": [],
   "source": [
    "# Make predictions using the testing set\n",
    "# TODO\n",
    "preds = lr.predict(X_test)"
   ]
  },
  {
   "cell_type": "markdown",
   "metadata": {},
   "source": [
    "## Model Validation"
   ]
  },
  {
   "cell_type": "code",
   "execution_count": 67,
   "metadata": {},
   "outputs": [
    {
     "name": "stdout",
     "output_type": "stream",
     "text": [
      "2.1999751751624137\n"
     ]
    }
   ],
   "source": [
    "# Print the root mean squared error of your predictions\n",
    "# TODO\n",
    "print(np.sqrt(mean_squared_error(y_test, preds)))"
   ]
  },
  {
   "cell_type": "code",
   "execution_count": 68,
   "metadata": {},
   "outputs": [
    {
     "name": "stdout",
     "output_type": "stream",
     "text": [
      "0.994770673190528\n"
     ]
    }
   ],
   "source": [
    "# Print the variance score (1 is perfect prediction)\n",
    "# TODO\n",
    "print(r2_score(y_test, preds))"
   ]
  },
  {
   "cell_type": "markdown",
   "metadata": {},
   "source": [
    "### Plot the Predictions Against the Actuals to See How Well the Model Did"
   ]
  },
  {
   "cell_type": "code",
   "execution_count": 87,
   "metadata": {},
   "outputs": [
    {
     "data": {
      "image/png": "[encoded data removed]",
      "text/plain": [
       "<Figure size 864x576 with 1 Axes>"
      ]
     },
     "metadata": {
      "needs_background": "light"
     },
     "output_type": "display_data"
    }
   ],
   "source": [
    "# Plot the predicted values against their corresponding true values\n",
    "plt.xlabel('Actual values')\n",
    "plt.ylabel('Predicted values')\n",
    "plt.scatter(y_test, preds, color='blue');"
   ]
  },
  {
   "cell_type": "markdown",
   "metadata": {},
   "source": [
    "The model's predictions are more or less in line with the truth."
   ]
  },
  {
   "cell_type": "code",
   "execution_count": 75,
   "metadata": {},
   "outputs": [
    {
     "name": "stdout",
     "output_type": "stream",
     "text": [
      "Root Mean Squared Error: 2.20\n"
     ]
    }
   ],
   "source": [
    "print('Root Mean Squared Error: {0:.2f}'.format(np.sqrt(mean_squared_error(y_test, X_test.day_prev_close))))"
   ]
  },
  {
   "cell_type": "markdown",
   "metadata": {},
   "source": [
    "## More on Time-Series that Leads toward ARIMA models\n",
    "- Stationary Data:\n",
    "    - the statistical structure of the series is independent of time (the mean and variance don't change over time)\n",
    "    - We find this visually through plots\n",
    "    - We find this analytically through summary statistics. Check for significant differences in averages\n",
    "    - We find whether the expectations of stationarity have been met or have been violated through statistical tests\n",
    "    \n",
    "- Converting trended data to \"stationary\"\n",
    "    - Identify and remove trends and seasonal effects\n",
    "    - First differences: Difference one time period from another (take the difference between two data points and plot)\n",
    "    - Second differences:  This is commonly needed with data where growth is compounded each year such as GDP and stock prices. Exponentially growing prices require a second differencing.\n",
    "    - You can double check the stationarity of your differenced data with the Augmented Dickey-Fuller test\n",
    "    \n",
    "- Why Stationarity is Important?\n",
    "    - If your data is not stationary, which mean will you choose to represent your data?\n",
    "    - Stationarity gives you a stable model with stable parameters that don't change over time.\n",
    "    \n",
    "- Important Concepts in Stationarity:\n",
    "    - Trend\n",
    "    - Seasonality: Data is affected by time of year (like ice cream and snow hats)\n",
    "    - Cyclical Component: Measured over longer time horizons (need more than one year of data), tied to business cycle\n",
    "    - Irregular (or residual) Component: Economic crashes, pandemics, weather storms: These effects are unpredictable but dramatic\n",
    "    \n",
    "- Stock prices are typically trending up or down, the mean and standard deviation changes over time\n",
    "    - To make it stationary:\n",
    "        - Difference stock prices to get daily, monthly or annual returns"
   ]
  }
 ],
 "metadata": {
  "kernelspec": {
   "display_name": "Python 3",
   "language": "python",
   "name": "python3"
  },
  "language_info": {
   "codemirror_mode": {
    "name": "ipython",
    "version": 3
   },
   "file_extension": ".py",
   "mimetype": "text/x-python",
   "name": "python",
   "nbconvert_exporter": "python",
   "pygments_lexer": "ipython3",
   "version": "3.8.5"
  }
 },
 "nbformat": 4,
 "nbformat_minor": 2
}
